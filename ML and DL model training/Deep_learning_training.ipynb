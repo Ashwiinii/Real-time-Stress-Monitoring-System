{
  "cells": [
    {
      "cell_type": "markdown",
      "metadata": {
        "id": "phNLGayRF9zF"
      },
      "source": [
        "# Extra lib"
      ]
    },
    {
      "cell_type": "code",
      "execution_count": null,
      "metadata": {
        "colab": {
          "base_uri": "https://localhost:8080/"
        },
        "id": "wRTAeZME6ND-",
        "outputId": "fc8cef36-0f68-4428-9f4b-6a3f2e2bb7f7"
      },
      "outputs": [
        {
          "name": "stdout",
          "output_type": "stream",
          "text": [
            "Collecting wfdb\n",
            "  Downloading wfdb-4.1.2-py3-none-any.whl (159 kB)\n",
            "\u001b[?25l     \u001b[90m━━━━━━━━━━━━━━━━━━━━━━━━━━━━━━━━━━━━━━━━\u001b[0m \u001b[32m0.0/160.0 kB\u001b[0m \u001b[31m?\u001b[0m eta \u001b[36m-:--:--\u001b[0m\r\u001b[2K     \u001b[90m━━━━━━━━━━━━━━━━━━━━━━━━━━━━━━━━━━━━━━━━\u001b[0m \u001b[32m160.0/160.0 kB\u001b[0m \u001b[31m4.5 MB/s\u001b[0m eta \u001b[36m0:00:00\u001b[0m\n",
            "\u001b[?25hRequirement already satisfied: SoundFile>=0.10.0 in /usr/local/lib/python3.10/dist-packages (from wfdb) (0.12.1)\n",
            "Requirement already satisfied: matplotlib>=3.2.2 in /usr/local/lib/python3.10/dist-packages (from wfdb) (3.7.1)\n",
            "Requirement already satisfied: numpy>=1.10.1 in /usr/local/lib/python3.10/dist-packages (from wfdb) (1.23.5)\n",
            "Requirement already satisfied: pandas>=1.3.0 in /usr/local/lib/python3.10/dist-packages (from wfdb) (1.5.3)\n",
            "Requirement already satisfied: requests>=2.8.1 in /usr/local/lib/python3.10/dist-packages (from wfdb) (2.31.0)\n",
            "Requirement already satisfied: scipy>=1.0.0 in /usr/local/lib/python3.10/dist-packages (from wfdb) (1.11.3)\n",
            "Requirement already satisfied: contourpy>=1.0.1 in /usr/local/lib/python3.10/dist-packages (from matplotlib>=3.2.2->wfdb) (1.2.0)\n",
            "Requirement already satisfied: cycler>=0.10 in /usr/local/lib/python3.10/dist-packages (from matplotlib>=3.2.2->wfdb) (0.12.1)\n",
            "Requirement already satisfied: fonttools>=4.22.0 in /usr/local/lib/python3.10/dist-packages (from matplotlib>=3.2.2->wfdb) (4.44.3)\n",
            "Requirement already satisfied: kiwisolver>=1.0.1 in /usr/local/lib/python3.10/dist-packages (from matplotlib>=3.2.2->wfdb) (1.4.5)\n",
            "Requirement already satisfied: packaging>=20.0 in /usr/local/lib/python3.10/dist-packages (from matplotlib>=3.2.2->wfdb) (23.2)\n",
            "Requirement already satisfied: pillow>=6.2.0 in /usr/local/lib/python3.10/dist-packages (from matplotlib>=3.2.2->wfdb) (9.4.0)\n",
            "Requirement already satisfied: pyparsing>=2.3.1 in /usr/local/lib/python3.10/dist-packages (from matplotlib>=3.2.2->wfdb) (3.1.1)\n",
            "Requirement already satisfied: python-dateutil>=2.7 in /usr/local/lib/python3.10/dist-packages (from matplotlib>=3.2.2->wfdb) (2.8.2)\n",
            "Requirement already satisfied: pytz>=2020.1 in /usr/local/lib/python3.10/dist-packages (from pandas>=1.3.0->wfdb) (2023.3.post1)\n",
            "Requirement already satisfied: charset-normalizer<4,>=2 in /usr/local/lib/python3.10/dist-packages (from requests>=2.8.1->wfdb) (3.3.2)\n",
            "Requirement already satisfied: idna<4,>=2.5 in /usr/local/lib/python3.10/dist-packages (from requests>=2.8.1->wfdb) (3.4)\n",
            "Requirement already satisfied: urllib3<3,>=1.21.1 in /usr/local/lib/python3.10/dist-packages (from requests>=2.8.1->wfdb) (2.0.7)\n",
            "Requirement already satisfied: certifi>=2017.4.17 in /usr/local/lib/python3.10/dist-packages (from requests>=2.8.1->wfdb) (2023.7.22)\n",
            "Requirement already satisfied: cffi>=1.0 in /usr/local/lib/python3.10/dist-packages (from SoundFile>=0.10.0->wfdb) (1.16.0)\n",
            "Requirement already satisfied: pycparser in /usr/local/lib/python3.10/dist-packages (from cffi>=1.0->SoundFile>=0.10.0->wfdb) (2.21)\n",
            "Requirement already satisfied: six>=1.5 in /usr/local/lib/python3.10/dist-packages (from python-dateutil>=2.7->matplotlib>=3.2.2->wfdb) (1.16.0)\n",
            "Installing collected packages: wfdb\n",
            "Successfully installed wfdb-4.1.2\n"
          ]
        }
      ],
      "source": [
        "!pip install wfdb"
      ]
    },
    {
      "cell_type": "markdown",
      "metadata": {
        "id": "Rgztkxvf6tWn"
      },
      "source": [
        "#Data Anotation"
      ]
    },
    {
      "cell_type": "code",
      "execution_count": null,
      "metadata": {
        "id": "Bs_UFVDX6wNb"
      },
      "outputs": [],
      "source": [
        "import numpy as np\n",
        "import pandas as pd\n",
        "import os\n",
        "import wfdb\n",
        "import pandas as pd\n",
        "import matplotlib.pyplot as plt\n",
        "from scipy.signal import find_peaks, resample\n",
        "from scipy.interpolate import interp1d"
      ]
    },
    {
      "cell_type": "code",
      "execution_count": null,
      "metadata": {
        "id": "c5z5Od7ZDFJ8"
      },
      "outputs": [],
      "source": [
        "def upsample_(signal_, fs, desired_frequency):\n",
        "    resampling_factor = desired_frequency / fs\n",
        "    upsampled_signal = resample(signal_, int(len(signal_) * resampling_factor))\n",
        "    return upsampled_signal"
      ]
    },
    {
      "cell_type": "code",
      "execution_count": null,
      "metadata": {
        "id": "H2z7wO9-Ltjx"
      },
      "outputs": [],
      "source": [
        "def remove_dc_offset(signal, window_size=1000):\n",
        "    # Initialize an array to store the signal with DC offset removed\n",
        "    signal_dcoffset_removed = np.copy(signal)\n",
        "\n",
        "    # Iterate through the signal using a sliding window\n",
        "    for i in range(0, len(signal) - window_size, window_size):\n",
        "        segment = signal[i:i + window_size]\n",
        "        dc_offset = np.mean(segment)  # Calculate the DC offset for the current window\n",
        "        signal_dcoffset_removed[i:i + window_size] -= dc_offset  # Subtract the DC offset\n",
        "\n",
        "    # Handle the last part of the signal (if it's shorter than the window size)\n",
        "    if len(signal) % window_size != 0:\n",
        "        last_segment = signal[i + window_size:]  # Handle the remaining part\n",
        "        dc_offset = np.mean(last_segment)\n",
        "        signal_dcoffset_removed[i + window_size:] -= dc_offset\n",
        "\n",
        "    return signal_dcoffset_removed\n",
        "\n",
        "def plot_signal_with_dc_offset(signal, signal_dcoffset_removed):\n",
        "    # Plot the original signal and the signal with DC offset removed\n",
        "\n",
        "    plt.figure(figsize=(10, 6))\n",
        "    plt.subplot(2, 1, 1)\n",
        "    plt.plot(signal)\n",
        "    plt.title(\"Original Signal\")\n",
        "    plt.grid(True)\n",
        "\n",
        "    plt.subplot(2, 1, 2)\n",
        "    plt.plot(signal_dcoffset_removed)\n",
        "    plt.title(\"Signal with DC Offset Removed\")\n",
        "    plt.grid(True)\n",
        "\n",
        "    plt.tight_layout()\n",
        "    plt.show()"
      ]
    },
    {
      "cell_type": "code",
      "execution_count": null,
      "metadata": {
        "colab": {
          "base_uri": "https://localhost:8080/"
        },
        "id": "_k4fV8KG61d5",
        "outputId": "90447d8f-f5f1-42f7-a0e5-0107ce4328d7"
      },
      "outputs": [
        {
          "name": "stdout",
          "output_type": "stream",
          "text": [
            "Processing:  drive05\n"
          ]
        }
      ],
      "source": [
        "all_signal={}\n",
        "meta_data={}\n",
        "data_folder = \"/content/drive/MyDrive/driveDB/\"\n",
        "# valid_data = [\"drive05\", \"drive06\", \"drive07\", \"drive08\", \"drive10\", \"drive11\", \"drive13\", \"drive14\", \"drive15\"]\n",
        "valid_data = [\"drive05\"]\n",
        "og_data = data_folder + \"OGData/\"\n",
        "for file in sorted(os.listdir(og_data)):\n",
        "    if file.endswith(\".dat\") and file.split(\".dat\")[0] in valid_data:\n",
        "        print(\"Processing: \", file.split(\".dat\")[0])\n",
        "        driver = file.split(\".dat\")[0]\n",
        "        # Use wfdb.rdsamp to read WFDB data. The function returns two main objects: signals, a 2D NumPy array used to store the physical signals recorded in the record, and fields, a dictionary containing several key attributes of the read record, including sampling frequency (fs), units, signal names (sig_name), and comments.\n",
        "        signals, fields = wfdb.rdsamp(og_data + os.path.splitext(file)[0])\n",
        "        all_signal[driver] = pd.DataFrame(signals, columns= fields['sig_name'])\n",
        "        # all_signal.append(signals)\n",
        "        # meta_data[driver] = fields\n",
        "        # meta_data.append(fields)"
      ]
    },
    {
      "cell_type": "code",
      "execution_count": null,
      "metadata": {
        "id": "n8rzlut5RYkx"
      },
      "outputs": [],
      "source": [
        "class_seq_3 = [1, 5, 3, 5, 3, 5, 1]\n",
        "class_seq_2 = [1, 5, 5, 5, 5, 5, 1]"
      ]
    },
    {
      "cell_type": "code",
      "execution_count": null,
      "metadata": {
        "colab": {
          "base_uri": "https://localhost:8080/"
        },
        "id": "sAgR7PwEA_uk",
        "outputId": "6022056e-8b2e-4c8b-d019-e76f1fc89382"
      },
      "outputs": [
        {
          "name": "stdout",
          "output_type": "stream",
          "text": [
            "[  16471  466748  943000 1173358 1353799 1578774 2023857 2493508]\n"
          ]
        }
      ],
      "source": [
        "for d in valid_data:\n",
        "    df = pd.DataFrame()\n",
        "\n",
        "    marker_signal_15_5_hz = all_signal[d]['marker']\n",
        "    ecg_15_5_hz = all_signal[d]['ECG']\n",
        "\n",
        "    marker_signal_496_hz = upsample_(marker_signal_15_5_hz, 15.5,  496)\n",
        "    ecg_496_hz = upsample_(ecg_15_5_hz, 15.5,  496)\n",
        "\n",
        "    marker_dc_removed = remove_dc_offset(marker_signal_496_hz)\n",
        "    distance = 179208\n",
        "    if d in [\"drive10\", \"drive13\", \"drive14\", \"drive15\"]:\n",
        "        distance = 179208//2\n",
        "    peaks, pro = find_peaks(marker_dc_removed, height=2, distance = distance)\n",
        "    print(peaks)\n",
        "    label_3 = []\n",
        "    label_2 = []\n",
        "    for peak_i in range(len(peaks)-1):\n",
        "        label_3 = label_3 + [str(class_seq_3[peak_i])] * (peaks[peak_i+1] - peaks[peak_i])\n",
        "        label_2 = label_2 + [str(class_seq_2[peak_i])] * (peaks[peak_i+1] - peaks[peak_i])\n",
        "\n",
        "    # df[\"ECG\"] = ecg_496_hz[peaks[0]:peaks[-1]]\n",
        "    # df[\"label_3\"] = label_3\n",
        "    # df[\"label_2\"] = label_2\n",
        "    # file_name = data_folder + \"/processed/\" + d + \".csv\"\n",
        "    # df.to_csv(file_name, index=False)\n",
        "\n",
        "    # plt.figure(figsize=(10, 6))\n",
        "    # plt.plot(marker_dc_removed, label=\"Signal\")\n",
        "    # plt.plot(peaks, marker_dc_removed[peaks], \"ro\", label=\"Peaks\")\n",
        "    # plt.xlabel(\"Sample Index\")\n",
        "    # plt.ylabel(\"Amplitude\")\n",
        "    # plt.title(\"Signal with Detected Peaks\")\n",
        "    # plt.legend()\n",
        "    # plt.grid(True)\n",
        "\n",
        "    # # Show the plot\n",
        "    # plt.show()\n",
        "    # if len(pro[\"peak_heights\"]) != 8:\n",
        "    #     print(\"ERROR: \", d)\n",
        "    #     print(\"------------------------\")\n",
        "\n",
        "    # break\n"
      ]
    },
    {
      "cell_type": "code",
      "execution_count": null,
      "metadata": {
        "colab": {
          "base_uri": "https://localhost:8080/"
        },
        "id": "HgPYWRsIvMGa",
        "outputId": "fd88257e-ac67-4698-fe9d-75440a1ef986"
      },
      "outputs": [
        {
          "data": {
            "text/plain": [
              "926529"
            ]
          },
          "execution_count": 18,
          "metadata": {},
          "output_type": "execute_result"
        }
      ],
      "source": [
        "peaks[2] - peaks[0]"
      ]
    },
    {
      "cell_type": "code",
      "execution_count": 4,
      "metadata": {
        "colab": {
          "base_uri": "https://localhost:8080/"
        },
        "id": "vt-k6GhA-OR4",
        "outputId": "81e40458-4e8a-427d-b01f-dd7beb88d7d6"
      },
      "outputs": [
        {
          "name": "stdout",
          "output_type": "stream",
          "text": [
            "Mounted at /content/drive\n"
          ]
        }
      ],
      "source": [
        "from google.colab import drive\n",
        "drive.mount('/content/drive')"
      ]
    },
    {
      "cell_type": "markdown",
      "metadata": {
        "id": "DF8OCcFYa6Ty"
      },
      "source": [
        "# DEEP LEARNING"
      ]
    },
    {
      "cell_type": "code",
      "execution_count": 1,
      "metadata": {
        "id": "7eRFfZy1HbnP"
      },
      "outputs": [],
      "source": [
        "import os\n",
        "from collections import Counter\n",
        "import numpy as np\n",
        "import pandas as pd\n",
        "from scipy.stats import mode\n",
        "import matplotlib.pyplot as plt\n",
        "from sklearn.model_selection import train_test_split\n",
        "from sklearn.preprocessing import StandardScaler, OneHotEncoder\n",
        "from concurrent.futures import ThreadPoolExecutor\n",
        "import seaborn as sns\n",
        "from sklearn.metrics import confusion_matrix\n",
        "import torch.nn.functional as F\n",
        "import torch\n",
        "import torch.nn as nn\n",
        "import torch.optim as optim\n",
        "from torch.utils.data import DataLoader, TensorDataset\n",
        "from torch.utils.data.sampler import WeightedRandomSampler"
      ]
    },
    {
      "cell_type": "markdown",
      "metadata": {
        "id": "VYRTP-SwKGxn"
      },
      "source": [
        "## Data Loading"
      ]
    },
    {
      "cell_type": "code",
      "execution_count": 56,
      "metadata": {
        "id": "bF989Hd7KR3g"
      },
      "outputs": [],
      "source": [
        "def split_drivers(drivers, split_ratio=0.8, random_state=None):\n",
        "    \"\"\"\n",
        "    Split the list of drivers into train and test sets based on the split ratio.\n",
        "\n",
        "    Parameters:\n",
        "    - drivers (list): List of driver identifiers.\n",
        "    - split_ratio (float): The ratio of drivers to include in the training set.\n",
        "    - random_state (int or None): Seed for random number generation.\n",
        "\n",
        "    Returns:\n",
        "    - train_drivers (list): List of drivers for training.\n",
        "    - test_drivers (list): List of drivers for testing.\n",
        "    \"\"\"\n",
        "    # Ensure the split ratio is within a valid range\n",
        "    assert 0.0 <= split_ratio <= 1.0, \"Split ratio must be between 0 and 1.\"\n",
        "\n",
        "    # Use train_test_split to perform the split\n",
        "    train_drivers, test_drivers = train_test_split(drivers, train_size=round(split_ratio,1), test_size= round(1 - split_ratio,1), random_state=random_state)\n",
        "\n",
        "    return train_drivers, test_drivers\n",
        "\n",
        "def process_driver(driver, num_features, window_size, sampling_frequency, label=\"label_3\"):\n",
        "    window_size_samples = int(window_size * sampling_frequency)\n",
        "    num_segments = len(driver) // window_size_samples\n",
        "\n",
        "    stress_levels = driver[label].values\n",
        "\n",
        "    if num_features == 2:\n",
        "        ecg_data = driver[['ECG', 'HR']].values\n",
        "    else:\n",
        "        ecg_data = driver[['ECG']].values\n",
        "\n",
        "    sequences = []\n",
        "    labels = []\n",
        "    # Create sequences of the specified length\n",
        "    for i in range(num_segments):\n",
        "        start_idx = i * window_size_samples\n",
        "        end_idx = start_idx + window_size_samples\n",
        "        sequence = ecg_data[start_idx : end_idx]\n",
        "        label = mode(stress_levels[start_idx : end_idx])[0]  # Mode of the sequence labels\n",
        "        sequences.append(sequence)\n",
        "        labels.append(label)\n",
        "\n",
        "    return sequences, labels\n",
        "\n",
        "def prepare_lstm_data_parallel(dataset, num_features, window_size, sampling_frequency, label=\"label_3\", scaler=None):\n",
        "    \"\"\"\n",
        "    Prepare data for training an LSTM model in parallel.\n",
        "\n",
        "    Parameters:\n",
        "    - dataset (dict): Dictionary of DataFrames with keys as driver numbers and values as DataFrames.\n",
        "    - sequence_length (int): Length of each sequence.\n",
        "    - random_state (int or None): Seed for random number generation.\n",
        "\n",
        "    Returns:\n",
        "    - sequences_normalized, labels_encoded\n",
        "    \"\"\"\n",
        "\n",
        "    sequences = []\n",
        "    labels = []\n",
        "\n",
        "    # Get the number of logical CPUs on the system\n",
        "    max_workers = os.cpu_count()\n",
        "\n",
        "    # Create a ThreadPoolExecutor with max_workers\n",
        "    with ThreadPoolExecutor(max_workers=max_workers) as executor:\n",
        "        # Process each driver in parallel\n",
        "        futures = [executor.submit(process_driver, df, num_features, window_size, sampling_frequency, label) for driver, df in dataset.items()]\n",
        "\n",
        "        # Retrieve results\n",
        "        for future in futures:\n",
        "            result = future.result()\n",
        "            sequences.extend(result[0])\n",
        "            labels.extend(result[1])\n",
        "\n",
        "    sequences = np.array(sequences)\n",
        "    labels = np.array(labels)\n",
        "\n",
        "    # Normalize the input data (using StandardScaler)\n",
        "    if scaler==None:\n",
        "        scaler = StandardScaler()\n",
        "    sequences_normalized = scaler.fit_transform(sequences.reshape(-1, sequences.shape[-1])).reshape(sequences.shape)\n",
        "\n",
        "    # One-hot encode the labels if they are categorical\n",
        "    if label == 'label_3':\n",
        "        cat = [[1,3,5]]\n",
        "    else:\n",
        "        cat = [[1,5]]\n",
        "    encoder = OneHotEncoder(sparse=False, categories=cat)\n",
        "    labels_encoded = encoder.fit_transform(labels.reshape(-1, 1))\n",
        "\n",
        "    return scaler, sequences_normalized, labels_encoded\n"
      ]
    },
    {
      "cell_type": "code",
      "execution_count": 111,
      "metadata": {
        "id": "dsHdI62LKTg_"
      },
      "outputs": [],
      "source": [
        "\n",
        "data_folder = \"/content/drive/MyDrive/driveDB/processed\"\n",
        "\n",
        "\n",
        "drivers = [f for f in os.listdir(data_folder) if f.endswith('.csv')]\n",
        "\n",
        "\n",
        "train_driver, test_driver = split_drivers(drivers, 0.7, 48)\n",
        "\n",
        "\n",
        "train_driver_dict = {}\n",
        "test_driver_dict = {}\n",
        "\n",
        "for d in train_driver:\n",
        "    driver = d.split(\".csv\")[0]\n",
        "    file_path = os.path.join(data_folder, d)\n",
        "    train_driver_dict[driver] = pd.read_csv(file_path)\n",
        "\n",
        "for d in test_driver:\n",
        "    driver = d.split(\".csv\")[0]\n",
        "    file_path = os.path.join(data_folder, d)\n",
        "    test_driver_dict[driver] = pd.read_csv(file_path)"
      ]
    },
    {
      "cell_type": "code",
      "execution_count": 113,
      "metadata": {
        "id": "r9kj-vupGoXY"
      },
      "outputs": [],
      "source": [
        "train_driver_dict['drive05'] = train_driver_dict['drive05'].dropna()"
      ]
    },
    {
      "cell_type": "code",
      "execution_count": 114,
      "metadata": {
        "colab": {
          "base_uri": "https://localhost:8080/"
        },
        "id": "n9ofaIpCMUCJ",
        "outputId": "7b414e96-2f65-45c9-c959-6df1b71d3094"
      },
      "outputs": [
        {
          "name": "stderr",
          "output_type": "stream",
          "text": [
            "/usr/local/lib/python3.10/dist-packages/sklearn/preprocessing/_encoders.py:868: FutureWarning: `sparse` was renamed to `sparse_output` in version 1.2 and will be removed in 1.4. `sparse_output` is ignored unless you leave `sparse` to its default value.\n",
            "  warnings.warn(\n",
            "/usr/local/lib/python3.10/dist-packages/sklearn/preprocessing/_encoders.py:868: FutureWarning: `sparse` was renamed to `sparse_output` in version 1.2 and will be removed in 1.4. `sparse_output` is ignored unless you leave `sparse` to its default value.\n",
            "  warnings.warn(\n"
          ]
        }
      ],
      "source": [
        "scaler, X_train, y_train = prepare_lstm_data_parallel(train_driver_dict, num_features=2, window_size=3, sampling_frequency=496, label=\"label_3\", scaler=None)\n",
        "_, X_val, y_val = prepare_lstm_data_parallel(test_driver_dict, num_features=2, window_size=3, sampling_frequency=496, label=\"label_3\", scaler=scaler)"
      ]
    },
    {
      "cell_type": "code",
      "execution_count": 115,
      "metadata": {
        "colab": {
          "base_uri": "https://localhost:8080/"
        },
        "id": "j6DwShAW5AER",
        "outputId": "45d4b33d-008d-4d1e-b2d1-fac3222ef330"
      },
      "outputs": [
        {
          "data": {
            "text/plain": [
              "(4224, 1488, 2)"
            ]
          },
          "execution_count": 115,
          "metadata": {},
          "output_type": "execute_result"
        }
      ],
      "source": [
        "X_train.shape"
      ]
    },
    {
      "cell_type": "code",
      "execution_count": 116,
      "metadata": {
        "colab": {
          "base_uri": "https://localhost:8080/"
        },
        "id": "TbQ_nAAV5C4h",
        "outputId": "218f2ce7-75fd-45bf-e1cf-5da45db8adba"
      },
      "outputs": [
        {
          "data": {
            "text/plain": [
              "(1488, 2)"
            ]
          },
          "execution_count": 116,
          "metadata": {},
          "output_type": "execute_result"
        }
      ],
      "source": [
        "X_train[0].shape"
      ]
    },
    {
      "cell_type": "code",
      "execution_count": 117,
      "metadata": {
        "id": "JciSWK8D5brr"
      },
      "outputs": [],
      "source": [
        "num_features = 2\n",
        "window_len = \"3sec\""
      ]
    },
    {
      "cell_type": "code",
      "execution_count": 118,
      "metadata": {
        "colab": {
          "base_uri": "https://localhost:8080/",
          "height": 36
        },
        "id": "oFijIGhW6RoM",
        "outputId": "f954617d-e3a0-4413-aa01-d42757114e09"
      },
      "outputs": [
        {
          "data": {
            "application/vnd.google.colaboratory.intrinsic+json": {
              "type": "string"
            },
            "text/plain": [
              "'/content/drive/MyDrive/driveDB/segmented/y_val_3sec_2.npy'"
            ]
          },
          "execution_count": 118,
          "metadata": {},
          "output_type": "execute_result"
        }
      ],
      "source": [
        "f'/content/drive/MyDrive/driveDB/segmented/y_val_{window_len}_{num_features}.npy'"
      ]
    },
    {
      "cell_type": "code",
      "execution_count": 119,
      "metadata": {
        "id": "sT-hBGnSMXD4"
      },
      "outputs": [],
      "source": [
        "np.save(f'/content/drive/MyDrive/driveDB/segmented/X_train_{window_len}_{num_features}.npy', X_train)\n",
        "np.save(f'/content/drive/MyDrive/driveDB/segmented/y_train_{window_len}_{num_features}.npy', y_train)\n",
        "np.save( f'/content/drive/MyDrive/driveDB/segmented/X_val_{window_len}_{num_features}.npy', X_val)\n",
        "np.save( f'/content/drive/MyDrive/driveDB/segmented/y_val_{window_len}_{num_features}.npy', y_val)"
      ]
    },
    {
      "cell_type": "code",
      "execution_count": 120,
      "metadata": {
        "colab": {
          "base_uri": "https://localhost:8080/"
        },
        "id": "Gmqf2mNL630a",
        "outputId": "a90ada61-8533-46f3-c055-f246b3843aef"
      },
      "outputs": [
        {
          "data": {
            "text/plain": [
              "47.953125"
            ]
          },
          "execution_count": 120,
          "metadata": {},
          "output_type": "execute_result"
        }
      ],
      "source": [
        "X_val.size * X_val.itemsize /1024 / 1024"
      ]
    },
    {
      "cell_type": "markdown",
      "metadata": {
        "id": "Qz6EkgMk2xyI"
      },
      "source": [
        "#Load"
      ]
    },
    {
      "cell_type": "code",
      "execution_count": 121,
      "metadata": {
        "id": "4HTAXDxW20j8"
      },
      "outputs": [],
      "source": [
        "num_features = 2\n",
        "window_len = \"3sec\"\n",
        "\n",
        "X_train = np.load(f'/content/drive/MyDrive/driveDB/segmented/X_train_{window_len}_{num_features}.npy')\n",
        "y_train = np.load(f'/content/drive/MyDrive/driveDB/segmented/y_train_{window_len}_{num_features}.npy')\n",
        "\n",
        "X_val = np.load(f'/content/drive/MyDrive/driveDB/segmented/X_val_{window_len}_{num_features}.npy')\n",
        "y_val = np.load(f'/content/drive/MyDrive/driveDB/segmented/y_val_{window_len}_{num_features}.npy')"
      ]
    },
    {
      "cell_type": "code",
      "execution_count": 122,
      "metadata": {
        "id": "E5z4ttLqIBOv"
      },
      "outputs": [],
      "source": [
        "X_train_tensor = torch.from_numpy(X_train).float()\n",
        "y_train_tensor = torch.from_numpy(y_train).float()\n",
        "X_val_tensor = torch.from_numpy(X_val).float()\n",
        "y_val_tensor = torch.from_numpy(y_val).float()"
      ]
    },
    {
      "cell_type": "code",
      "execution_count": 123,
      "metadata": {
        "colab": {
          "base_uri": "https://localhost:8080/"
        },
        "id": "CAnXvo1Q75Wp",
        "outputId": "347a422b-f914-491d-c4cc-81bb23fad1e3"
      },
      "outputs": [
        {
          "data": {
            "text/plain": [
              "(4224, 1488, 2)"
            ]
          },
          "execution_count": 123,
          "metadata": {},
          "output_type": "execute_result"
        }
      ],
      "source": [
        "X_train.shape"
      ]
    },
    {
      "cell_type": "code",
      "execution_count": 124,
      "metadata": {
        "id": "znqKqeOj4fsd"
      },
      "outputs": [],
      "source": [
        "num_features = 2"
      ]
    },
    {
      "cell_type": "code",
      "execution_count": 125,
      "metadata": {
        "id": "6J1_h2064M4j"
      },
      "outputs": [],
      "source": [
        "X_train_tensor = X_train_tensor.view(X_train.shape[0], num_features,-1)\n",
        "X_val_tensor = X_val_tensor.view(X_val.shape[0], num_features, -1)"
      ]
    },
    {
      "cell_type": "code",
      "execution_count": 126,
      "metadata": {
        "colab": {
          "base_uri": "https://localhost:8080/"
        },
        "id": "eFFnIrK67xRN",
        "outputId": "2c014282-3e43-48d9-8768-52ec260c2908"
      },
      "outputs": [
        {
          "data": {
            "text/plain": [
              "(torch.Size([4224, 2, 1488]), torch.Size([2112, 2, 1488]))"
            ]
          },
          "execution_count": 126,
          "metadata": {},
          "output_type": "execute_result"
        }
      ],
      "source": [
        "X_train_tensor.shape, X_val_tensor.shape"
      ]
    },
    {
      "cell_type": "code",
      "execution_count": 127,
      "metadata": {
        "colab": {
          "base_uri": "https://localhost:8080/"
        },
        "id": "B8AW7wOK9CK_",
        "outputId": "8fcc6033-7afb-4cc3-9838-172d71fa3915"
      },
      "outputs": [
        {
          "data": {
            "text/plain": [
              "False"
            ]
          },
          "execution_count": 127,
          "metadata": {},
          "output_type": "execute_result"
        }
      ],
      "source": [
        "np.isnan(X_train).any()"
      ]
    },
    {
      "cell_type": "markdown",
      "metadata": {
        "id": "jOWjBkHw3y2-"
      },
      "source": [
        "#Pytorch init"
      ]
    },
    {
      "cell_type": "code",
      "execution_count": 128,
      "metadata": {
        "colab": {
          "base_uri": "https://localhost:8080/"
        },
        "id": "_oQMovCV256-",
        "outputId": "7f3bc407-b0d1-4913-efd6-0019c43c58dc"
      },
      "outputs": [
        {
          "data": {
            "text/plain": [
              "device(type='cuda')"
            ]
          },
          "execution_count": 128,
          "metadata": {},
          "output_type": "execute_result"
        }
      ],
      "source": [
        "if torch.backends.mps.is_available():\n",
        "    device = torch.device(\"mps\")\n",
        "elif torch.cuda.is_available():\n",
        "    device = torch.device(\"cuda\")\n",
        "else:\n",
        "    device = torch.device(\"cpu\")\n",
        "\n",
        "device"
      ]
    },
    {
      "cell_type": "markdown",
      "metadata": {
        "id": "QScf3tva8HtZ"
      },
      "source": [
        "## Oversampling"
      ]
    },
    {
      "cell_type": "code",
      "execution_count": 129,
      "metadata": {
        "id": "1chVHVX73Fhb"
      },
      "outputs": [],
      "source": [
        "ys = torch.argmax(y_train_tensor, dim=1).tolist()\n",
        "counts = Counter(ys)\n",
        "weights = np.array([1./counts[_y] for _y in ys])\n",
        "sample_weights = torch.from_numpy(weights).float()\n",
        "sampler = WeightedRandomSampler(\n",
        "    weights=sample_weights,\n",
        "    num_samples=len(sample_weights),\n",
        "    replacement=True)"
      ]
    },
    {
      "cell_type": "code",
      "execution_count": 130,
      "metadata": {
        "id": "Mr2JI_IF3Do0"
      },
      "outputs": [],
      "source": [
        "train_dataset = TensorDataset(X_train_tensor, torch.argmax(y_train_tensor, dim=1))\n",
        "val_dataset = TensorDataset(X_val_tensor, torch.argmax(y_val_tensor, dim=1))\n",
        "train_loader = DataLoader(train_dataset, batch_size=32, sampler=sampler, drop_last=True)\n",
        "val_loader = DataLoader(val_dataset, batch_size=32, shuffle=False, drop_last=True)"
      ]
    },
    {
      "cell_type": "markdown",
      "metadata": {
        "id": "eKaXE1K523Uh"
      },
      "source": [
        "#LSTM"
      ]
    },
    {
      "cell_type": "code",
      "execution_count": null,
      "metadata": {
        "id": "y0f3brZcICdf"
      },
      "outputs": [],
      "source": [
        "# Initialize the model\n",
        "input_size = X_train_tensor.shape[2]\n",
        "hidden_size = 50\n",
        "output_size = y_train_tensor.shape[1]\n"
      ]
    },
    {
      "cell_type": "code",
      "execution_count": null,
      "metadata": {
        "id": "Uvh8qczzH9Vq"
      },
      "outputs": [],
      "source": [
        "class LSTMModel(nn.Module):\n",
        "    def __init__(self, input_size, hidden_size, output_size):\n",
        "        super(LSTMModel, self).__init__()\n",
        "        self.lstm = nn.LSTM(input_size, hidden_size, batch_first=True)\n",
        "        self.relu = nn.ReLU()\n",
        "        self.fc = nn.Linear(hidden_size, output_size)\n",
        "    def forward(self, x):\n",
        "        out, _ = self.lstm(x)\n",
        "        out = self.fc(self.relu(out[:, -1, :]))\n",
        "        return out"
      ]
    },
    {
      "cell_type": "code",
      "execution_count": null,
      "metadata": {
        "id": "ScAVLdyZeMlc"
      },
      "outputs": [],
      "source": [
        "class BRNN(torch.nn.Module):\n",
        "    def __init__(self, input_size, hidden_size, num_layers, num_classes, device):\n",
        "        super(BRNN, self).__init__()\n",
        "        self.device = device\n",
        "        self.hidden_size = hidden_size\n",
        "        self.num_layers = num_layers\n",
        "        self.lstm = nn.LSTM(input_size, hidden_size, num_layers, batch_first = True, bidirectional = True)\n",
        "        self.fc = nn.Sequential(\n",
        "        #   nn.Dropout1d(),\n",
        "        #   nn.Linear(hidden_size*2, hidden_size*2),\n",
        "        nn.Linear(hidden_size*2, num_classes)\n",
        "        )\n",
        "\n",
        "    def forward(self, x):\n",
        "        h0 = torch.randn(self.num_layers*2, 128, self.hidden_size).to(self.device)\n",
        "        c0 = torch.randn(self.num_layers*2, 128, self.hidden_size).to(self.device)\n",
        "        out, _ = self.lstm(x, (h0, c0))\n",
        "        out = self.fc(out[:, -1, :])\n",
        "\n",
        "        return out"
      ]
    },
    {
      "cell_type": "code",
      "execution_count": null,
      "metadata": {
        "colab": {
          "base_uri": "https://localhost:8080/"
        },
        "id": "st5VwzuGIH8q",
        "outputId": "7063457e-76dd-46a5-908c-541cc77ae69d"
      },
      "outputs": [
        {
          "data": {
            "text/plain": [
              "LSTMModel(\n",
              "  (lstm): LSTM(1, 50, batch_first=True)\n",
              "  (relu): ReLU()\n",
              "  (fc): Linear(in_features=50, out_features=3, bias=True)\n",
              ")"
            ]
          },
          "execution_count": 11,
          "metadata": {},
          "output_type": "execute_result"
        }
      ],
      "source": [
        "model = LSTMModel(input_size, hidden_size, output_size)\n",
        "model.to(device)"
      ]
    },
    {
      "cell_type": "code",
      "execution_count": null,
      "metadata": {
        "colab": {
          "base_uri": "https://localhost:8080/"
        },
        "id": "bio0N-y7OkxK",
        "outputId": "810e88f6-9847-4a63-d6c5-10756be37c25"
      },
      "outputs": [
        {
          "data": {
            "text/plain": [
              "BRNN(\n",
              "  (lstm): LSTM(1, 50, num_layers=2, batch_first=True, bidirectional=True)\n",
              "  (fc): Sequential(\n",
              "    (0): Linear(in_features=100, out_features=3, bias=True)\n",
              "  )\n",
              ")"
            ]
          },
          "execution_count": 34,
          "metadata": {},
          "output_type": "execute_result"
        }
      ],
      "source": [
        "model = BRNN(input_size, hidden_size, 2, 3, device)\n",
        "model.to(device)"
      ]
    },
    {
      "cell_type": "code",
      "execution_count": null,
      "metadata": {
        "id": "AnArSniXIKyt"
      },
      "outputs": [],
      "source": []
    },
    {
      "cell_type": "markdown",
      "metadata": {
        "id": "G58ehRYe3IHC"
      },
      "source": [
        "#CNN"
      ]
    },
    {
      "cell_type": "code",
      "execution_count": 131,
      "metadata": {
        "id": "u7JZvQHQFyQk"
      },
      "outputs": [],
      "source": [
        "class VGGNet(nn.Module):\n",
        "    def __init__(self, n_features, n_classes):\n",
        "        super(VGGNet, self).__init__()\n",
        "        self.n_features = n_features\n",
        "        self.features = self._make_layers()\n",
        "        self.avgpool = nn.AdaptiveAvgPool1d(1)\n",
        "        self.classifier = nn.Sequential(\n",
        "            nn.Linear(512, 256),\n",
        "            nn.ReLU(True),\n",
        "            nn.Dropout(0.5),\n",
        "            nn.Linear(256, n_classes)\n",
        "        )\n",
        "\n",
        "    def _make_layers(self):\n",
        "        layers = []\n",
        "        in_channels = self.n_features\n",
        "\n",
        "        # VGG-like architecture with four blocks\n",
        "        for num_filters in [64, 128, 256, 512]:\n",
        "            layers += [\n",
        "                nn.Conv1d(in_channels, num_filters, kernel_size=3, padding=1),\n",
        "                nn.BatchNorm1d(num_filters),\n",
        "                nn.ReLU(inplace=True),\n",
        "                nn.MaxPool1d(kernel_size=2, stride=2)\n",
        "            ]\n",
        "            in_channels = num_filters\n",
        "\n",
        "        return nn.Sequential(*layers)\n",
        "\n",
        "    def forward(self, x):\n",
        "        x = self.features(x)\n",
        "        x = self.avgpool(x)\n",
        "        x = x.view(x.size(0), -1)\n",
        "        x = self.classifier(x)\n",
        "        return x"
      ]
    },
    {
      "cell_type": "code",
      "execution_count": 132,
      "metadata": {
        "id": "hRJjCpC43J5Y"
      },
      "outputs": [],
      "source": [
        "class SingleCNN(nn.Module):\n",
        "    def __init__(self, n_features, n_classes, base_filters=32, mul=120):\n",
        "        super(SingleCNN, self).__init__()\n",
        "\n",
        "        self.conv1 = nn.Conv1d(in_channels=n_features, out_channels=base_filters, kernel_size=3, stride=1, padding=1)\n",
        "        self.norm1 = nn.LayerNorm(base_filters*mul)\n",
        "        self.pool1 = nn.AvgPool1d(kernel_size=2, stride=2)\n",
        "        self.fc1 = nn.Linear(base_filters*mul, (base_filters//2)*mul)\n",
        "        self.dropout5 = nn.Dropout(0.4)\n",
        "        self.fc2 = nn.Linear((base_filters//2)*mul, n_classes)\n",
        "        self.relu = nn.ReLU()\n",
        "\n",
        "    def forward(self, x):\n",
        "        x = self.conv1(x)\n",
        "        N, C, T = x.shape\n",
        "        x = x.view(N, C*T)\n",
        "        x = self.norm1(x)\n",
        "        x = x.view(N, C, T)\n",
        "        x = self.pool1(F.relu(x))\n",
        "        print(x.shape)\n",
        "        N, C, T = x.size()\n",
        "        x = x.mean(dim=-1) # Flatten\n",
        "        x = self.dropout5(F.relu(self.fc1(x)))\n",
        "        x = self.fc2(x)\n",
        "\n",
        "        return x\n",
        "\n",
        "class OneDConvNet(nn.Module):\n",
        "    def __init__(self, n_features, n_classes, base_filters=32, mul=120):\n",
        "        super(OneDConvNet, self).__init__()\n",
        "\n",
        "        self.conv1 = nn.Conv1d(in_channels=n_features, out_channels=base_filters, kernel_size=3, stride=1, padding=1)\n",
        "        self.norm1 = nn.LayerNorm(base_filters*mul)\n",
        "        self.pool1 = nn.AvgPool1d(kernel_size=2, stride=2)\n",
        "        self.conv2 = nn.Conv1d(in_channels=base_filters, out_channels=base_filters*2, kernel_size=3, stride=1, padding=1)\n",
        "        self.norm2 = nn.LayerNorm(base_filters*mul)\n",
        "        self.pool2 = nn.AvgPool1d(kernel_size=2, stride=2)\n",
        "        self.conv3 = nn.Conv1d(in_channels=base_filters*2, out_channels=base_filters*4, kernel_size=3, stride=1, padding=1)\n",
        "        self.norm3 = nn.LayerNorm(base_filters*mul)\n",
        "        self.pool3 = nn.AvgPool1d(kernel_size=2, stride=2)\n",
        "        self.conv4 = nn.Conv1d(in_channels=base_filters*4, out_channels=base_filters*8, kernel_size=3, stride=1, padding=1)\n",
        "        self.norm4 = nn.LayerNorm(base_filters*mul)\n",
        "        self.fc1 = nn.Linear(base_filters*8, base_filters*16)\n",
        "        self.dropout5 = nn.Dropout(0.4)\n",
        "        self.fc2 = nn.Linear(base_filters*16, n_classes)\n",
        "\n",
        "    def forward(self, x):\n",
        "        x = self.conv1(x)\n",
        "        N, C, T = x.shape\n",
        "        x = x.view(N, C*T)\n",
        "        x = self.norm1(x)\n",
        "        x = x.view(N, C, T)\n",
        "        x = self.pool1(F.relu(x))\n",
        "\n",
        "        x = self.conv2(x)\n",
        "        N, C, T = x.shape\n",
        "        x = x.view(N, C*T)\n",
        "        x = self.norm2(x)\n",
        "        x = x.view(N, C, T)\n",
        "        x = self.pool2(F.relu(x))\n",
        "\n",
        "        x = self.conv3(x)\n",
        "        N, C, T = x.shape\n",
        "        x = x.view(N, C*T)\n",
        "        x = self.norm3(x)\n",
        "        x = x.view(N, C, T)\n",
        "        x = self.pool3(F.relu(x))\n",
        "\n",
        "        x = self.conv4(x)\n",
        "        N, C, T = x.shape\n",
        "        x = x.view(N, C*T)\n",
        "        x = self.norm4(x)\n",
        "        x = x.view(N, C, T)\n",
        "        x = F.relu(x)\n",
        "\n",
        "        N, C, T = x.size()\n",
        "        x = x.mean(dim=-1) # Flatten\n",
        "        x = self.dropout5(F.relu(self.fc1(x)))\n",
        "        x = self.fc2(x)\n",
        "        return x"
      ]
    },
    {
      "cell_type": "code",
      "execution_count": 133,
      "metadata": {
        "colab": {
          "base_uri": "https://localhost:8080/"
        },
        "id": "UUkgx55PGVSt",
        "outputId": "f3b8088b-d868-42a6-d334-0b3ad900a6f0"
      },
      "outputs": [
        {
          "data": {
            "text/plain": [
              "VGGNet(\n",
              "  (features): Sequential(\n",
              "    (0): Conv1d(2, 64, kernel_size=(3,), stride=(1,), padding=(1,))\n",
              "    (1): BatchNorm1d(64, eps=1e-05, momentum=0.1, affine=True, track_running_stats=True)\n",
              "    (2): ReLU(inplace=True)\n",
              "    (3): MaxPool1d(kernel_size=2, stride=2, padding=0, dilation=1, ceil_mode=False)\n",
              "    (4): Conv1d(64, 128, kernel_size=(3,), stride=(1,), padding=(1,))\n",
              "    (5): BatchNorm1d(128, eps=1e-05, momentum=0.1, affine=True, track_running_stats=True)\n",
              "    (6): ReLU(inplace=True)\n",
              "    (7): MaxPool1d(kernel_size=2, stride=2, padding=0, dilation=1, ceil_mode=False)\n",
              "    (8): Conv1d(128, 256, kernel_size=(3,), stride=(1,), padding=(1,))\n",
              "    (9): BatchNorm1d(256, eps=1e-05, momentum=0.1, affine=True, track_running_stats=True)\n",
              "    (10): ReLU(inplace=True)\n",
              "    (11): MaxPool1d(kernel_size=2, stride=2, padding=0, dilation=1, ceil_mode=False)\n",
              "    (12): Conv1d(256, 512, kernel_size=(3,), stride=(1,), padding=(1,))\n",
              "    (13): BatchNorm1d(512, eps=1e-05, momentum=0.1, affine=True, track_running_stats=True)\n",
              "    (14): ReLU(inplace=True)\n",
              "    (15): MaxPool1d(kernel_size=2, stride=2, padding=0, dilation=1, ceil_mode=False)\n",
              "  )\n",
              "  (avgpool): AdaptiveAvgPool1d(output_size=1)\n",
              "  (classifier): Sequential(\n",
              "    (0): Linear(in_features=512, out_features=256, bias=True)\n",
              "    (1): ReLU(inplace=True)\n",
              "    (2): Dropout(p=0.5, inplace=False)\n",
              "    (3): Linear(in_features=256, out_features=3, bias=True)\n",
              "  )\n",
              ")"
            ]
          },
          "execution_count": 133,
          "metadata": {},
          "output_type": "execute_result"
        }
      ],
      "source": [
        "model = VGGNet(n_features=2, n_classes=3)\n",
        "model.to(device)"
      ]
    },
    {
      "cell_type": "code",
      "execution_count": null,
      "metadata": {
        "id": "mLHRJjrp7z3d"
      },
      "outputs": [],
      "source": [
        "model = SingleCNN(1,3, 32, 1488)\n",
        "model.to(device)"
      ]
    },
    {
      "cell_type": "code",
      "execution_count": null,
      "metadata": {
        "id": "YNRtZPX-3eDN"
      },
      "outputs": [],
      "source": [
        "model = OneDConvNet(1,3, 32, 1488)\n",
        "model.to(device)"
      ]
    },
    {
      "cell_type": "markdown",
      "metadata": {
        "id": "cfU-qH772_0V"
      },
      "source": [
        "#Train"
      ]
    },
    {
      "cell_type": "code",
      "execution_count": 134,
      "metadata": {
        "id": "P0PmvLOY38Qv"
      },
      "outputs": [],
      "source": [
        "criterion = nn.CrossEntropyLoss()\n",
        "optimizer = optim.Adam(model.parameters(), lr=0.001)"
      ]
    },
    {
      "cell_type": "code",
      "execution_count": 135,
      "metadata": {
        "colab": {
          "base_uri": "https://localhost:8080/"
        },
        "id": "FTsoYhxjITlI",
        "outputId": "3ab3754e-c58a-48b2-d5c5-5e43610bbac5"
      },
      "outputs": [
        {
          "name": "stdout",
          "output_type": "stream",
          "text": [
            "Epoch [1/200], Training Accuracy: 0.4796, Loss: 1.3204, Val Accuracy: 0.5838\n",
            "Epoch [2/200], Training Accuracy: 0.4938, Loss: 1.2408, Val Accuracy: 0.6170\n",
            "Epoch [3/200], Training Accuracy: 0.5206, Loss: 1.5109, Val Accuracy: 0.6345\n",
            "Epoch [4/200], Training Accuracy: 0.5348, Loss: 1.6200, Val Accuracy: 0.6174\n",
            "Epoch [5/200], Training Accuracy: 0.5414, Loss: 1.5738, Val Accuracy: 0.6330\n",
            "Epoch [6/200], Training Accuracy: 0.5440, Loss: 1.5113, Val Accuracy: 0.6378\n",
            "Epoch [7/200], Training Accuracy: 0.5580, Loss: 1.3227, Val Accuracy: 0.6141\n",
            "Epoch [8/200], Training Accuracy: 0.5561, Loss: 1.8275, Val Accuracy: 0.6600\n",
            "Epoch [9/200], Training Accuracy: 0.5497, Loss: 1.7199, Val Accuracy: 0.6345\n",
            "Epoch [10/200], Training Accuracy: 0.5689, Loss: 1.6966, Val Accuracy: 0.6676\n",
            "Epoch [11/200], Training Accuracy: 0.5642, Loss: 1.4209, Val Accuracy: 0.6051\n",
            "Epoch [12/200], Training Accuracy: 0.5497, Loss: 1.6110, Val Accuracy: 0.6136\n",
            "Epoch [13/200], Training Accuracy: 0.5838, Loss: 1.7393, Val Accuracy: 0.5999\n",
            "Epoch [14/200], Training Accuracy: 0.5755, Loss: 1.7982, Val Accuracy: 0.6387\n",
            "Epoch [15/200], Training Accuracy: 0.5902, Loss: 1.4887, Val Accuracy: 0.5777\n",
            "Epoch [16/200], Training Accuracy: 0.5779, Loss: 2.1440, Val Accuracy: 0.6392\n",
            "Epoch [17/200], Training Accuracy: 0.5973, Loss: 1.9646, Val Accuracy: 0.6013\n",
            "Epoch [18/200], Training Accuracy: 0.5888, Loss: 2.1601, Val Accuracy: 0.6473\n",
            "Epoch [19/200], Training Accuracy: 0.5824, Loss: 2.2172, Val Accuracy: 0.6629\n",
            "Epoch [20/200], Training Accuracy: 0.5788, Loss: 2.2962, Val Accuracy: 0.6501\n",
            "Epoch [21/200], Training Accuracy: 0.5862, Loss: 2.2271, Val Accuracy: 0.6383\n",
            "Epoch [22/200], Training Accuracy: 0.5909, Loss: 2.6127, Val Accuracy: 0.6430\n",
            "Epoch [23/200], Training Accuracy: 0.5973, Loss: 3.2128, Val Accuracy: 0.6539\n",
            "Epoch [24/200], Training Accuracy: 0.5978, Loss: 2.9756, Val Accuracy: 0.6615\n",
            "Epoch [25/200], Training Accuracy: 0.5914, Loss: 3.1975, Val Accuracy: 0.6411\n",
            "Epoch [26/200], Training Accuracy: 0.5997, Loss: 3.5901, Val Accuracy: 0.6089\n",
            "Epoch [27/200], Training Accuracy: 0.5897, Loss: 3.3449, Val Accuracy: 0.6368\n",
            "Epoch [28/200], Training Accuracy: 0.6037, Loss: 3.0833, Val Accuracy: 0.6387\n",
            "Epoch [29/200], Training Accuracy: 0.6141, Loss: 2.9524, Val Accuracy: 0.6312\n",
            "Epoch [30/200], Training Accuracy: 0.6167, Loss: 3.1264, Val Accuracy: 0.6387\n",
            "Epoch [31/200], Training Accuracy: 0.6316, Loss: 3.3074, Val Accuracy: 0.6738\n",
            "Epoch [32/200], Training Accuracy: 0.6106, Loss: 3.5774, Val Accuracy: 0.6652\n",
            "Epoch [33/200], Training Accuracy: 0.6245, Loss: 3.5566, Val Accuracy: 0.6695\n",
            "Epoch [34/200], Training Accuracy: 0.6316, Loss: 3.3626, Val Accuracy: 0.6312\n",
            "Epoch [35/200], Training Accuracy: 0.6264, Loss: 3.9456, Val Accuracy: 0.6776\n",
            "Epoch [36/200], Training Accuracy: 0.6229, Loss: 3.6276, Val Accuracy: 0.6643\n",
            "Epoch [37/200], Training Accuracy: 0.6425, Loss: 4.9801, Val Accuracy: 0.6340\n",
            "Epoch [38/200], Training Accuracy: 0.6203, Loss: 5.2127, Val Accuracy: 0.6255\n",
            "Epoch [39/200], Training Accuracy: 0.6262, Loss: 4.1673, Val Accuracy: 0.6577\n",
            "Epoch [40/200], Training Accuracy: 0.6302, Loss: 4.3559, Val Accuracy: 0.6487\n",
            "Epoch [41/200], Training Accuracy: 0.6286, Loss: 4.7872, Val Accuracy: 0.6657\n",
            "Epoch [42/200], Training Accuracy: 0.6312, Loss: 4.9297, Val Accuracy: 0.6581\n",
            "Epoch [43/200], Training Accuracy: 0.6449, Loss: 4.4453, Val Accuracy: 0.6364\n",
            "Epoch [44/200], Training Accuracy: 0.6345, Loss: 4.8181, Val Accuracy: 0.6747\n",
            "Epoch [45/200], Training Accuracy: 0.6461, Loss: 5.2225, Val Accuracy: 0.6700\n",
            "Epoch [46/200], Training Accuracy: 0.6238, Loss: 4.4743, Val Accuracy: 0.6506\n",
            "Epoch [47/200], Training Accuracy: 0.6418, Loss: 5.0032, Val Accuracy: 0.6619\n",
            "Epoch [48/200], Training Accuracy: 0.6560, Loss: 5.4204, Val Accuracy: 0.6842\n",
            "Epoch [49/200], Training Accuracy: 0.6416, Loss: 5.1710, Val Accuracy: 0.6501\n",
            "Epoch [50/200], Training Accuracy: 0.6513, Loss: 6.4360, Val Accuracy: 0.6581\n",
            "Epoch [51/200], Training Accuracy: 0.6465, Loss: 5.8822, Val Accuracy: 0.6634\n",
            "Epoch [52/200], Training Accuracy: 0.6468, Loss: 5.2355, Val Accuracy: 0.6856\n",
            "Epoch [53/200], Training Accuracy: 0.6463, Loss: 5.3745, Val Accuracy: 0.6657\n",
            "Epoch [54/200], Training Accuracy: 0.6586, Loss: 5.5417, Val Accuracy: 0.6809\n",
            "Epoch [55/200], Training Accuracy: 0.6527, Loss: 5.6749, Val Accuracy: 0.6487\n",
            "Epoch [56/200], Training Accuracy: 0.6544, Loss: 7.1921, Val Accuracy: 0.6733\n",
            "Epoch [57/200], Training Accuracy: 0.6650, Loss: 6.9781, Val Accuracy: 0.6738\n",
            "Epoch [58/200], Training Accuracy: 0.6546, Loss: 6.9568, Val Accuracy: 0.6643\n",
            "Epoch [59/200], Training Accuracy: 0.6489, Loss: 7.4375, Val Accuracy: 0.6567\n",
            "Epoch [60/200], Training Accuracy: 0.6629, Loss: 5.6645, Val Accuracy: 0.6776\n",
            "Epoch [61/200], Training Accuracy: 0.6662, Loss: 7.6747, Val Accuracy: 0.6757\n",
            "Epoch [62/200], Training Accuracy: 0.6629, Loss: 6.9184, Val Accuracy: 0.6771\n",
            "Epoch [63/200], Training Accuracy: 0.6603, Loss: 7.3302, Val Accuracy: 0.6629\n",
            "Epoch [64/200], Training Accuracy: 0.6686, Loss: 6.9761, Val Accuracy: 0.6662\n",
            "Epoch [65/200], Training Accuracy: 0.6660, Loss: 7.0223, Val Accuracy: 0.6818\n",
            "Epoch [66/200], Training Accuracy: 0.6716, Loss: 7.5628, Val Accuracy: 0.6634\n",
            "Epoch [67/200], Training Accuracy: 0.6705, Loss: 5.9225, Val Accuracy: 0.6619\n",
            "Epoch [68/200], Training Accuracy: 0.6674, Loss: 7.0141, Val Accuracy: 0.6752\n",
            "Epoch [69/200], Training Accuracy: 0.6759, Loss: 7.2064, Val Accuracy: 0.6955\n",
            "Epoch [70/200], Training Accuracy: 0.6761, Loss: 7.9574, Val Accuracy: 0.6667\n",
            "Epoch [71/200], Training Accuracy: 0.6705, Loss: 7.6456, Val Accuracy: 0.6757\n",
            "Epoch [72/200], Training Accuracy: 0.6889, Loss: 7.8565, Val Accuracy: 0.6776\n",
            "Epoch [73/200], Training Accuracy: 0.6906, Loss: 8.0611, Val Accuracy: 0.6648\n",
            "Epoch [74/200], Training Accuracy: 0.6792, Loss: 6.7691, Val Accuracy: 0.6430\n",
            "Epoch [75/200], Training Accuracy: 0.6866, Loss: 7.6206, Val Accuracy: 0.6899\n",
            "Epoch [76/200], Training Accuracy: 0.6951, Loss: 8.1302, Val Accuracy: 0.6776\n",
            "Epoch [77/200], Training Accuracy: 0.6920, Loss: 7.4830, Val Accuracy: 0.6681\n",
            "Epoch [78/200], Training Accuracy: 0.6719, Loss: 8.3769, Val Accuracy: 0.6482\n",
            "Epoch [79/200], Training Accuracy: 0.6934, Loss: 7.9983, Val Accuracy: 0.6870\n",
            "Epoch [80/200], Training Accuracy: 0.6828, Loss: 8.4164, Val Accuracy: 0.6804\n",
            "Epoch [81/200], Training Accuracy: 0.6911, Loss: 7.7300, Val Accuracy: 0.6842\n",
            "Epoch [82/200], Training Accuracy: 0.6754, Loss: 9.3003, Val Accuracy: 0.6690\n",
            "Epoch [83/200], Training Accuracy: 0.6866, Loss: 7.5283, Val Accuracy: 0.6629\n",
            "Epoch [84/200], Training Accuracy: 0.6847, Loss: 9.0380, Val Accuracy: 0.6837\n",
            "Epoch [85/200], Training Accuracy: 0.6989, Loss: 9.0784, Val Accuracy: 0.6728\n",
            "Epoch [86/200], Training Accuracy: 0.6946, Loss: 8.0800, Val Accuracy: 0.6615\n",
            "Epoch [87/200], Training Accuracy: 0.6877, Loss: 9.7890, Val Accuracy: 0.6828\n",
            "Epoch [88/200], Training Accuracy: 0.6984, Loss: 9.9838, Val Accuracy: 0.6439\n",
            "Epoch [89/200], Training Accuracy: 0.6979, Loss: 10.2795, Val Accuracy: 0.6723\n",
            "Epoch [90/200], Training Accuracy: 0.6974, Loss: 8.6585, Val Accuracy: 0.6790\n",
            "Epoch [91/200], Training Accuracy: 0.7079, Loss: 8.3498, Val Accuracy: 0.6217\n",
            "Epoch [92/200], Training Accuracy: 0.7076, Loss: 10.1970, Val Accuracy: 0.6884\n",
            "Epoch [93/200], Training Accuracy: 0.7124, Loss: 9.4242, Val Accuracy: 0.6548\n",
            "Epoch [94/200], Training Accuracy: 0.7019, Loss: 9.3302, Val Accuracy: 0.6799\n",
            "Epoch [95/200], Training Accuracy: 0.7076, Loss: 9.8341, Val Accuracy: 0.6866\n",
            "Epoch [96/200], Training Accuracy: 0.7150, Loss: 9.4444, Val Accuracy: 0.6723\n",
            "Epoch [97/200], Training Accuracy: 0.7083, Loss: 9.7639, Val Accuracy: 0.6657\n",
            "Epoch [98/200], Training Accuracy: 0.7088, Loss: 9.5415, Val Accuracy: 0.6733\n",
            "Epoch [99/200], Training Accuracy: 0.7121, Loss: 10.7587, Val Accuracy: 0.6984\n",
            "Epoch [100/200], Training Accuracy: 0.7038, Loss: 8.0355, Val Accuracy: 0.6667\n",
            "Epoch [101/200], Training Accuracy: 0.6998, Loss: 8.5745, Val Accuracy: 0.6761\n",
            "Epoch [102/200], Training Accuracy: 0.7081, Loss: 11.0951, Val Accuracy: 0.6496\n",
            "Epoch [103/200], Training Accuracy: 0.7024, Loss: 9.9015, Val Accuracy: 0.6667\n",
            "Epoch [104/200], Training Accuracy: 0.7280, Loss: 9.7532, Val Accuracy: 0.6577\n",
            "Epoch [105/200], Training Accuracy: 0.7124, Loss: 8.4493, Val Accuracy: 0.6506\n",
            "Epoch [106/200], Training Accuracy: 0.7071, Loss: 10.0700, Val Accuracy: 0.6539\n",
            "Epoch [107/200], Training Accuracy: 0.7301, Loss: 10.6005, Val Accuracy: 0.6648\n",
            "Epoch [108/200], Training Accuracy: 0.7216, Loss: 10.8480, Val Accuracy: 0.6870\n",
            "Epoch [109/200], Training Accuracy: 0.7140, Loss: 9.9559, Val Accuracy: 0.6534\n",
            "Epoch [110/200], Training Accuracy: 0.7230, Loss: 10.6998, Val Accuracy: 0.6870\n",
            "Epoch [111/200], Training Accuracy: 0.7275, Loss: 11.2922, Val Accuracy: 0.6728\n",
            "Epoch [112/200], Training Accuracy: 0.7322, Loss: 11.3828, Val Accuracy: 0.6818\n",
            "Epoch [113/200], Training Accuracy: 0.7247, Loss: 12.4396, Val Accuracy: 0.6719\n",
            "Epoch [114/200], Training Accuracy: 0.7379, Loss: 11.3591, Val Accuracy: 0.6742\n",
            "Epoch [115/200], Training Accuracy: 0.7339, Loss: 13.3807, Val Accuracy: 0.6714\n",
            "Epoch [116/200], Training Accuracy: 0.7261, Loss: 12.1086, Val Accuracy: 0.6918\n",
            "Epoch [117/200], Training Accuracy: 0.7427, Loss: 11.1033, Val Accuracy: 0.6903\n",
            "Epoch [118/200], Training Accuracy: 0.7474, Loss: 10.5521, Val Accuracy: 0.6695\n",
            "Epoch [119/200], Training Accuracy: 0.7296, Loss: 13.8332, Val Accuracy: 0.6780\n",
            "Epoch [120/200], Training Accuracy: 0.7360, Loss: 12.4739, Val Accuracy: 0.6714\n",
            "Epoch [121/200], Training Accuracy: 0.7398, Loss: 11.8386, Val Accuracy: 0.6870\n",
            "Epoch [122/200], Training Accuracy: 0.7289, Loss: 12.0175, Val Accuracy: 0.6932\n",
            "Epoch [123/200], Training Accuracy: 0.7282, Loss: 11.3791, Val Accuracy: 0.6960\n",
            "Epoch [124/200], Training Accuracy: 0.7377, Loss: 13.1861, Val Accuracy: 0.7088\n",
            "Epoch [125/200], Training Accuracy: 0.7405, Loss: 13.9045, Val Accuracy: 0.6866\n",
            "Epoch [126/200], Training Accuracy: 0.7443, Loss: 13.7305, Val Accuracy: 0.6823\n",
            "Epoch [127/200], Training Accuracy: 0.7384, Loss: 11.5960, Val Accuracy: 0.6842\n",
            "Epoch [128/200], Training Accuracy: 0.7386, Loss: 12.9831, Val Accuracy: 0.6993\n",
            "Epoch [129/200], Training Accuracy: 0.7412, Loss: 12.5406, Val Accuracy: 0.6695\n",
            "Epoch [130/200], Training Accuracy: 0.7507, Loss: 13.5407, Val Accuracy: 0.6766\n",
            "Epoch [131/200], Training Accuracy: 0.7467, Loss: 13.3528, Val Accuracy: 0.6875\n",
            "Epoch [132/200], Training Accuracy: 0.7457, Loss: 14.0414, Val Accuracy: 0.6870\n",
            "Epoch [133/200], Training Accuracy: 0.7552, Loss: 13.3977, Val Accuracy: 0.6686\n",
            "Epoch [134/200], Training Accuracy: 0.7528, Loss: 12.8727, Val Accuracy: 0.6600\n",
            "Epoch [135/200], Training Accuracy: 0.7521, Loss: 15.0064, Val Accuracy: 0.7027\n",
            "Epoch [136/200], Training Accuracy: 0.7554, Loss: 13.9135, Val Accuracy: 0.6643\n",
            "Epoch [137/200], Training Accuracy: 0.7585, Loss: 12.5327, Val Accuracy: 0.6804\n",
            "Epoch [138/200], Training Accuracy: 0.7569, Loss: 13.9571, Val Accuracy: 0.6842\n",
            "Epoch [139/200], Training Accuracy: 0.7557, Loss: 13.5336, Val Accuracy: 0.6989\n",
            "Epoch [140/200], Training Accuracy: 0.7642, Loss: 11.0602, Val Accuracy: 0.6922\n",
            "Epoch [141/200], Training Accuracy: 0.7500, Loss: 13.1194, Val Accuracy: 0.6918\n",
            "Epoch [142/200], Training Accuracy: 0.7502, Loss: 15.3452, Val Accuracy: 0.6899\n",
            "Epoch [143/200], Training Accuracy: 0.7481, Loss: 14.4235, Val Accuracy: 0.6937\n",
            "Epoch [144/200], Training Accuracy: 0.7500, Loss: 14.4772, Val Accuracy: 0.6875\n",
            "Epoch [145/200], Training Accuracy: 0.7604, Loss: 15.2792, Val Accuracy: 0.6918\n",
            "Epoch [146/200], Training Accuracy: 0.7753, Loss: 15.4689, Val Accuracy: 0.6615\n",
            "Epoch [147/200], Training Accuracy: 0.7678, Loss: 13.4706, Val Accuracy: 0.6875\n",
            "Epoch [148/200], Training Accuracy: 0.7730, Loss: 13.9176, Val Accuracy: 0.6828\n",
            "Epoch [149/200], Training Accuracy: 0.7649, Loss: 14.9694, Val Accuracy: 0.6913\n",
            "Epoch [150/200], Training Accuracy: 0.7637, Loss: 15.1814, Val Accuracy: 0.6927\n",
            "Epoch [151/200], Training Accuracy: 0.7642, Loss: 14.6396, Val Accuracy: 0.6776\n",
            "Epoch [152/200], Training Accuracy: 0.7805, Loss: 14.0909, Val Accuracy: 0.6946\n",
            "Epoch [153/200], Training Accuracy: 0.7682, Loss: 13.4660, Val Accuracy: 0.6937\n",
            "Epoch [154/200], Training Accuracy: 0.7829, Loss: 14.8077, Val Accuracy: 0.6733\n",
            "Epoch [155/200], Training Accuracy: 0.7812, Loss: 15.4492, Val Accuracy: 0.6918\n",
            "Epoch [156/200], Training Accuracy: 0.7727, Loss: 17.5572, Val Accuracy: 0.7008\n",
            "Epoch [157/200], Training Accuracy: 0.7723, Loss: 15.7028, Val Accuracy: 0.6809\n",
            "Epoch [158/200], Training Accuracy: 0.7694, Loss: 14.2831, Val Accuracy: 0.6837\n",
            "Epoch [159/200], Training Accuracy: 0.7602, Loss: 17.1090, Val Accuracy: 0.6851\n",
            "Epoch [160/200], Training Accuracy: 0.7756, Loss: 16.3004, Val Accuracy: 0.6875\n",
            "Epoch [161/200], Training Accuracy: 0.7808, Loss: 16.6287, Val Accuracy: 0.6899\n",
            "Epoch [162/200], Training Accuracy: 0.7718, Loss: 15.2541, Val Accuracy: 0.7088\n",
            "Epoch [163/200], Training Accuracy: 0.7805, Loss: 15.8300, Val Accuracy: 0.6780\n",
            "Epoch [164/200], Training Accuracy: 0.7966, Loss: 15.2386, Val Accuracy: 0.7055\n",
            "Epoch [165/200], Training Accuracy: 0.7732, Loss: 14.1164, Val Accuracy: 0.6884\n",
            "Epoch [166/200], Training Accuracy: 0.7952, Loss: 17.5706, Val Accuracy: 0.7135\n",
            "Epoch [167/200], Training Accuracy: 0.7706, Loss: 16.2321, Val Accuracy: 0.6809\n",
            "Epoch [168/200], Training Accuracy: 0.7715, Loss: 16.9082, Val Accuracy: 0.6681\n",
            "Epoch [169/200], Training Accuracy: 0.7699, Loss: 14.6147, Val Accuracy: 0.7041\n",
            "Epoch [170/200], Training Accuracy: 0.7964, Loss: 16.5140, Val Accuracy: 0.7027\n",
            "Epoch [171/200], Training Accuracy: 0.7857, Loss: 16.3438, Val Accuracy: 0.6970\n",
            "Epoch [172/200], Training Accuracy: 0.7891, Loss: 17.1928, Val Accuracy: 0.7098\n",
            "Epoch [173/200], Training Accuracy: 0.7810, Loss: 18.5567, Val Accuracy: 0.6818\n",
            "Epoch [174/200], Training Accuracy: 0.7919, Loss: 16.8783, Val Accuracy: 0.6998\n",
            "Epoch [175/200], Training Accuracy: 0.7765, Loss: 15.2030, Val Accuracy: 0.7169\n",
            "Epoch [176/200], Training Accuracy: 0.7803, Loss: 18.4370, Val Accuracy: 0.7003\n",
            "Epoch [177/200], Training Accuracy: 0.7971, Loss: 18.7062, Val Accuracy: 0.6970\n",
            "Epoch [178/200], Training Accuracy: 0.7900, Loss: 15.4314, Val Accuracy: 0.6875\n",
            "Epoch [179/200], Training Accuracy: 0.7839, Loss: 17.2474, Val Accuracy: 0.6880\n",
            "Epoch [180/200], Training Accuracy: 0.7876, Loss: 19.4614, Val Accuracy: 0.6946\n",
            "Epoch [181/200], Training Accuracy: 0.7912, Loss: 17.5254, Val Accuracy: 0.7036\n",
            "Epoch [182/200], Training Accuracy: 0.7846, Loss: 18.6141, Val Accuracy: 0.6913\n",
            "Epoch [183/200], Training Accuracy: 0.7926, Loss: 18.4963, Val Accuracy: 0.7031\n",
            "Epoch [184/200], Training Accuracy: 0.7966, Loss: 18.4818, Val Accuracy: 0.6591\n",
            "Epoch [185/200], Training Accuracy: 0.8030, Loss: 19.0488, Val Accuracy: 0.7126\n",
            "Epoch [186/200], Training Accuracy: 0.8078, Loss: 20.6432, Val Accuracy: 0.6951\n",
            "Epoch [187/200], Training Accuracy: 0.8026, Loss: 18.8547, Val Accuracy: 0.6965\n",
            "Epoch [188/200], Training Accuracy: 0.8089, Loss: 17.6386, Val Accuracy: 0.6776\n",
            "Epoch [189/200], Training Accuracy: 0.7959, Loss: 18.0134, Val Accuracy: 0.6960\n",
            "Epoch [190/200], Training Accuracy: 0.7931, Loss: 19.5493, Val Accuracy: 0.6908\n",
            "Epoch [191/200], Training Accuracy: 0.8075, Loss: 15.3529, Val Accuracy: 0.6993\n",
            "Epoch [192/200], Training Accuracy: 0.7957, Loss: 20.2152, Val Accuracy: 0.6993\n",
            "Epoch [193/200], Training Accuracy: 0.8094, Loss: 19.4550, Val Accuracy: 0.6818\n",
            "Epoch [194/200], Training Accuracy: 0.8082, Loss: 18.8764, Val Accuracy: 0.7098\n",
            "Epoch [195/200], Training Accuracy: 0.8063, Loss: 19.5429, Val Accuracy: 0.6918\n",
            "Epoch [196/200], Training Accuracy: 0.7990, Loss: 18.6879, Val Accuracy: 0.6884\n",
            "Epoch [197/200], Training Accuracy: 0.8113, Loss: 19.5175, Val Accuracy: 0.6719\n",
            "Epoch [198/200], Training Accuracy: 0.8037, Loss: 18.2825, Val Accuracy: 0.6866\n",
            "Epoch [199/200], Training Accuracy: 0.8028, Loss: 19.3878, Val Accuracy: 0.6965\n",
            "Epoch [200/200], Training Accuracy: 0.8021, Loss: 21.1519, Val Accuracy: 0.6894\n"
          ]
        }
      ],
      "source": [
        "num_epochs = 200\n",
        "train_accuracies = []\n",
        "val_accuracies = []\n",
        "for epoch in range(num_epochs):\n",
        "    train_loss = 0.0\n",
        "    correct = 0.0\n",
        "    total = 0.0\n",
        "\n",
        "    model.train()\n",
        "\n",
        "    for inputs, labels in train_loader:\n",
        "        inputs = inputs.to(device)\n",
        "        labels = labels.to(device)\n",
        "        optimizer.zero_grad()\n",
        "        outputs = model(inputs)\n",
        "        loss = criterion(outputs, labels)\n",
        "        loss.backward()\n",
        "        optimizer.step()\n",
        "        train_loss += loss.item()\n",
        "\n",
        "        _, predicted = torch.max(outputs, 1)\n",
        "        total += labels.size(0)\n",
        "        correct += (predicted == labels).sum().item()\n",
        "    train_accuracy = correct / total\n",
        "    train_accuracies.append(train_accuracy)\n",
        "    # Validation\n",
        "    model.eval()\n",
        "    with torch.no_grad():\n",
        "        val_loss = 0.0\n",
        "        correct = 0\n",
        "        total = 0\n",
        "        for inputs, labels in val_loader:\n",
        "            inputs = inputs.to(device)\n",
        "            labels = labels.to(device)\n",
        "            outputs = model(inputs)\n",
        "            loss = criterion(outputs, labels)\n",
        "            val_loss += loss.item()\n",
        "\n",
        "            _, predicted = torch.max(outputs, 1)\n",
        "            total += labels.size(0)\n",
        "            correct += (predicted == labels).sum().item()\n",
        "        val_accuracy = correct / total\n",
        "        val_accuracies.append(val_accuracy)\n",
        "    print(f'Epoch [{epoch + 1}/{num_epochs}], Training Accuracy: {train_accuracy:.4f}, Loss: {loss.item():.4f}, Val Accuracy: {val_accuracy:.4f}')\n"
      ]
    },
    {
      "cell_type": "code",
      "execution_count": 87,
      "metadata": {
        "id": "QQCLPRmKnVNG"
      },
      "outputs": [],
      "source": [
        "def plot_confusion_matrix(y_true, y_pred, classes):\n",
        "    cm = confusion_matrix(y_true, y_pred)\n",
        "    plt.figure(figsize=(8, 6))\n",
        "    sns.heatmap(cm, annot=True, fmt='d', cmap='Blues', xticklabels=classes, yticklabels=classes)\n",
        "    plt.xlabel('Predicted')\n",
        "    plt.ylabel('True')\n",
        "    plt.title('Confusion Matrix')\n",
        "    plt.show()\n",
        "\n",
        "# Function to calculate and print class accuracy\n",
        "def class_accuracy(y_true, y_pred, class_labels):\n",
        "    cm = confusion_matrix(y_true, y_pred)\n",
        "    num_classes = len(class_labels)\n",
        "    accuracies = []\n",
        "    for i in range(num_classes):\n",
        "        accuracy = cm[i, i] / cm[i, :].sum()  # True positive / Total actual for class i\n",
        "        accuracies.append(accuracy)\n",
        "        print(f'Accuracy for {class_labels[i]}: {accuracy:.4f}')\n",
        "    return accuracies\n",
        "\n",
        "def plot_accuracy_graphs(train_accuracies, val_accuracies):\n",
        "    plt.figure()\n",
        "    plt.plot(train_accuracies, label=\"Train Accuracy\")\n",
        "    plt.plot(val_accuracies, label=\"Val Accuracy\")\n",
        "    plt.xlabel(\"Epoch\")\n",
        "    plt.ylabel(\"Accuracy\")\n",
        "    plt.show()"
      ]
    },
    {
      "cell_type": "code",
      "execution_count": 136,
      "metadata": {
        "colab": {
          "base_uri": "https://localhost:8080/",
          "height": 618
        },
        "id": "bdkthLYToF-k",
        "outputId": "9d7cd99e-23d9-4273-93dc-aae172fbc466"
      },
      "outputs": [
        {
          "data": {
            "image/png": "[encoded data removed]",
            "text/plain": [
              "<Figure size 800x600 with 2 Axes>"
            ]
          },
          "metadata": {},
          "output_type": "display_data"
        },
        {
          "name": "stdout",
          "output_type": "stream",
          "text": [
            "Accuracy for 1: 0.7144\n",
            "Accuracy for 2: 0.2805\n",
            "Accuracy for 3: 0.8016\n"
          ]
        }
      ],
      "source": [
        "model.eval()\n",
        "\n",
        "# Initialize lists to store true and predicted labels\n",
        "true_labels = []\n",
        "predicted_labels = []\n",
        "\n",
        "# Iterate through the test dataloader\n",
        "with torch.no_grad():\n",
        "    for inputs, labels in val_loader:\n",
        "        inputs = inputs.to(device)\n",
        "        labels = labels.to(device)\n",
        "        outputs = model(inputs)\n",
        "        _, predicted = torch.max(outputs, 1)\n",
        "        true_labels.extend(labels.cpu().numpy())\n",
        "        predicted_labels.extend(predicted.cpu().numpy())\n",
        "\n",
        "# Define your class labels\n",
        "\n",
        "class_labels = ['1', '2', '3']\n",
        "# class_labels = ['1', '2']\n",
        "\n",
        "# Plot the confusion matrix\n",
        "plot_confusion_matrix(true_labels, predicted_labels, classes=class_labels)\n",
        "\n",
        "# Calculate and print class accuracy\n",
        "class_accuracies = class_accuracy(true_labels, predicted_labels, class_labels)"
      ]
    },
    {
      "cell_type": "code",
      "execution_count": 137,
      "metadata": {
        "colab": {
          "base_uri": "https://localhost:8080/",
          "height": 449
        },
        "id": "or-kBhRN6JkR",
        "outputId": "34151ffe-7a6d-4d63-fd90-21ee335e2226"
      },
      "outputs": [
        {
          "data": {
            "image/png": "[encoded data removed]",
            "text/plain": [
              "<Figure size 640x480 with 1 Axes>"
            ]
          },
          "metadata": {},
          "output_type": "display_data"
        }
      ],
      "source": [
        "plot_accuracy_graphs(train_accuracies, val_accuracies)"
      ]
    },
    {
      "cell_type": "code",
      "execution_count": 90,
      "metadata": {
        "colab": {
          "base_uri": "https://localhost:8080/",
          "height": 607
        },
        "id": "IbzGz65VoQ8t",
        "outputId": "cd4e1a32-9fa6-485e-fba3-e43712da87ea"
      },
      "outputs": [
        {
          "data": {
            "image/png": "[encoded data removed]",
            "text/plain": [
              "<Figure size 1000x600 with 1 Axes>"
            ]
          },
          "metadata": {},
          "output_type": "display_data"
        }
      ],
      "source": [
        "class_counts = {}\n",
        "\n",
        "# Assuming that the labels are stored in the second element of each batch (change it if your labels are in a different location)\n",
        "for data, labels in train_loader:\n",
        "    labels = labels.numpy()\n",
        "    for label in labels:\n",
        "        label = int(label)  # Ensure the label is an integer\n",
        "        if label not in class_counts:\n",
        "            class_counts[label] = 1\n",
        "        else:\n",
        "            class_counts[label] += 1\n",
        "\n",
        "# Extract unique class labels and their counts\n",
        "class_labels = list(class_counts.keys())\n",
        "class_label_counts = [class_counts[label] for label in class_labels]\n",
        "\n",
        "# Create a bar graph to visualize the data distribution\n",
        "plt.figure(figsize=(10, 6))\n",
        "plt.bar(class_labels, class_label_counts, alpha=0.7)\n",
        "plt.xlabel('Class Label')\n",
        "plt.ylabel('Count')\n",
        "plt.title('Data Distribution in Train DataLoader')\n",
        "plt.tight_layout()\n",
        "plt.show()"
      ]
    },
    {
      "cell_type": "code",
      "execution_count": 85,
      "metadata": {
        "colab": {
          "base_uri": "https://localhost:8080/",
          "height": 607
        },
        "id": "GeIMnk4opNdw",
        "outputId": "cf4dffb8-6487-43d2-b3de-ad949e896e54"
      },
      "outputs": [
        {
          "data": {
            "image/png": "[encoded data removed]",
            "text/plain": [
              "<Figure size 1000x600 with 1 Axes>"
            ]
          },
          "metadata": {},
          "output_type": "display_data"
        }
      ],
      "source": [
        "class_counts = {}\n",
        "\n",
        "# Assuming that the labels are stored in the second element of each batch (change it if your labels are in a different location)\n",
        "for data, labels in val_loader:\n",
        "    labels = labels.numpy()\n",
        "    for label in labels:\n",
        "        label = int(label)  # Ensure the label is an integer\n",
        "        if label not in class_counts:\n",
        "            class_counts[label] = 1\n",
        "        else:\n",
        "            class_counts[label] += 1\n",
        "\n",
        "# Extract unique class labels and their counts\n",
        "class_labels = list(class_counts.keys())\n",
        "class_label_counts = [class_counts[label] for label in class_labels]\n",
        "\n",
        "# Create a bar graph to visualize the data distribution\n",
        "plt.figure(figsize=(10, 6))\n",
        "plt.bar(class_labels, class_label_counts, alpha=0.7)\n",
        "plt.xlabel('Class Label')\n",
        "plt.ylabel('Count')\n",
        "plt.title('Data Distribution in Val DataLoader')\n",
        "plt.tight_layout()\n",
        "plt.show()"
      ]
    }
  ],
  "metadata": {
    "accelerator": "GPU",
    "colab": {
      "collapsed_sections": [
        "phNLGayRF9zF",
        "Rgztkxvf6tWn",
        "eKaXE1K523Uh"
      ],
      "gpuType": "T4",
      "provenance": []
    },
    "kernelspec": {
      "display_name": "Python 3",
      "name": "python3"
    },
    "language_info": {
      "codemirror_mode": {
        "name": "ipython",
        "version": 3
      },
      "file_extension": ".py",
      "mimetype": "text/x-python",
      "name": "python",
      "nbconvert_exporter": "python",
      "pygments_lexer": "ipython3",
      "version": "3.9.12"
    }
  },
  "nbformat": 4,
  "nbformat_minor": 0
}
