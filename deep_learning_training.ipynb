{
  "cells": [
    {
      "cell_type": "markdown",
      "metadata": {
        "id": "phNLGayRF9zF"
      },
      "source": [
        "# Extra lib"
      ]
    },
    {
      "cell_type": "code",
      "execution_count": null,
      "metadata": {
        "colab": {
          "base_uri": "https://localhost:8080/"
        },
        "id": "wRTAeZME6ND-",
        "outputId": "fc8cef36-0f68-4428-9f4b-6a3f2e2bb7f7"
      },
      "outputs": [],
      "source": [
        "!pip install wfdb"
      ]
    },
    {
      "cell_type": "markdown",
      "metadata": {
        "id": "Rgztkxvf6tWn"
      },
      "source": [
        "#Data Anotation"
      ]
    },
    {
      "cell_type": "code",
      "execution_count": null,
      "metadata": {
        "id": "Bs_UFVDX6wNb"
      },
      "outputs": [],
      "source": [
        "import numpy as np\n",
        "import pandas as pd\n",
        "import os\n",
        "import wfdb\n",
        "import pandas as pd\n",
        "import matplotlib.pyplot as plt\n",
        "from scipy.signal import find_peaks, resample\n",
        "from scipy.interpolate import interp1d"
      ]
    },
    {
      "cell_type": "code",
      "execution_count": null,
      "metadata": {
        "id": "c5z5Od7ZDFJ8"
      },
      "outputs": [],
      "source": [
        "def upsample_(signal_, fs, desired_frequency):\n",
        "    resampling_factor = desired_frequency / fs\n",
        "    upsampled_signal = resample(signal_, int(len(signal_) * resampling_factor))\n",
        "    return upsampled_signal"
      ]
    },
    {
      "cell_type": "code",
      "execution_count": null,
      "metadata": {
        "id": "H2z7wO9-Ltjx"
      },
      "outputs": [],
      "source": [
        "def remove_dc_offset(signal, window_size=1000):\n",
        "    # Initialize an array to store the signal with DC offset removed\n",
        "    signal_dcoffset_removed = np.copy(signal)\n",
        "\n",
        "    # Iterate through the signal using a sliding window\n",
        "    for i in range(0, len(signal) - window_size, window_size):\n",
        "        segment = signal[i:i + window_size]\n",
        "        dc_offset = np.mean(segment)  # Calculate the DC offset for the current window\n",
        "        signal_dcoffset_removed[i:i + window_size] -= dc_offset  # Subtract the DC offset\n",
        "\n",
        "    # Handle the last part of the signal (if it's shorter than the window size)\n",
        "    if len(signal) % window_size != 0:\n",
        "        last_segment = signal[i + window_size:]  # Handle the remaining part\n",
        "        dc_offset = np.mean(last_segment)\n",
        "        signal_dcoffset_removed[i + window_size:] -= dc_offset\n",
        "\n",
        "    return signal_dcoffset_removed\n",
        "\n",
        "def plot_signal_with_dc_offset(signal, signal_dcoffset_removed):\n",
        "    # Plot the original signal and the signal with DC offset removed\n",
        "\n",
        "    plt.figure(figsize=(10, 6))\n",
        "    plt.subplot(2, 1, 1)\n",
        "    plt.plot(signal)\n",
        "    plt.title(\"Original Signal\")\n",
        "    plt.grid(True)\n",
        "\n",
        "    plt.subplot(2, 1, 2)\n",
        "    plt.plot(signal_dcoffset_removed)\n",
        "    plt.title(\"Signal with DC Offset Removed\")\n",
        "    plt.grid(True)\n",
        "\n",
        "    plt.tight_layout()\n",
        "    plt.show()"
      ]
    },
    {
      "cell_type": "code",
      "execution_count": null,
      "metadata": {
        "colab": {
          "base_uri": "https://localhost:8080/"
        },
        "id": "_k4fV8KG61d5",
        "outputId": "90447d8f-f5f1-42f7-a0e5-0107ce4328d7"
      },
      "outputs": [
        {
          "name": "stdout",
          "output_type": "stream",
          "text": [
            "Processing:  drive05\n"
          ]
        }
      ],
      "source": [
        "all_signal={}\n",
        "meta_data={}\n",
        "data_folder = \"/content/drive/MyDrive/driveDB/\"\n",
        "# valid_data = [\"drive05\", \"drive06\", \"drive07\", \"drive08\", \"drive10\", \"drive11\", \"drive13\", \"drive14\", \"drive15\"]\n",
        "valid_data = [\"drive05\"]\n",
        "og_data = data_folder + \"OGData/\"\n",
        "for file in sorted(os.listdir(og_data)):\n",
        "    if file.endswith(\".dat\") and file.split(\".dat\")[0] in valid_data:\n",
        "        print(\"Processing: \", file.split(\".dat\")[0])\n",
        "        driver = file.split(\".dat\")[0]\n",
        "        # Use wfdb.rdsamp to read WFDB data. The function returns two main objects: signals, a 2D NumPy array used to store the physical signals recorded in the record, and fields, a dictionary containing several key attributes of the read record, including sampling frequency (fs), units, signal names (sig_name), and comments.\n",
        "        signals, fields = wfdb.rdsamp(og_data + os.path.splitext(file)[0])\n",
        "        all_signal[driver] = pd.DataFrame(signals, columns= fields['sig_name'])\n",
        "        # all_signal.append(signals)\n",
        "        # meta_data[driver] = fields\n",
        "        # meta_data.append(fields)"
      ]
    },
    {
      "cell_type": "code",
      "execution_count": null,
      "metadata": {
        "id": "n8rzlut5RYkx"
      },
      "outputs": [],
      "source": [
        "class_seq_3 = [1, 5, 3, 5, 3, 5, 1]\n",
        "class_seq_2 = [1, 5, 5, 5, 5, 5, 1]"
      ]
    },
    {
      "cell_type": "code",
      "execution_count": null,
      "metadata": {
        "colab": {
          "base_uri": "https://localhost:8080/"
        },
        "id": "sAgR7PwEA_uk",
        "outputId": "6022056e-8b2e-4c8b-d019-e76f1fc89382"
      },
      "outputs": [
        {
          "name": "stdout",
          "output_type": "stream",
          "text": [
            "[  16471  466748  943000 1173358 1353799 1578774 2023857 2493508]\n"
          ]
        }
      ],
      "source": [
        "for d in valid_data:\n",
        "    df = pd.DataFrame()\n",
        "\n",
        "    marker_signal_15_5_hz = all_signal[d]['marker']\n",
        "    ecg_15_5_hz = all_signal[d]['ECG']\n",
        "\n",
        "    marker_signal_496_hz = upsample_(marker_signal_15_5_hz, 15.5,  496)\n",
        "    ecg_496_hz = upsample_(ecg_15_5_hz, 15.5,  496)\n",
        "\n",
        "    marker_dc_removed = remove_dc_offset(marker_signal_496_hz)\n",
        "    distance = 179208\n",
        "    if d in [\"drive10\", \"drive13\", \"drive14\", \"drive15\"]:\n",
        "        distance = 179208//2\n",
        "    peaks, pro = find_peaks(marker_dc_removed, height=2, distance = distance)\n",
        "    print(peaks)\n",
        "    label_3 = []\n",
        "    label_2 = []\n",
        "    for peak_i in range(len(peaks)-1):\n",
        "        label_3 = label_3 + [str(class_seq_3[peak_i])] * (peaks[peak_i+1] - peaks[peak_i])\n",
        "        label_2 = label_2 + [str(class_seq_2[peak_i])] * (peaks[peak_i+1] - peaks[peak_i])\n",
        "\n",
        "    df[\"ECG\"] = ecg_496_hz[peaks[0]:peaks[-1]]\n",
        "    df[\"label_3\"] = label_3\n",
        "    df[\"label_2\"] = label_2\n",
        "    file_name = data_folder + \"/processed/\" + d + \".csv\"\n",
        "    df.to_csv(file_name, index=False)\n",
        "\n",
        "    plt.figure(figsize=(10, 6))\n",
        "    plt.plot(marker_dc_removed, label=\"Signal\")\n",
        "    plt.plot(peaks, marker_dc_removed[peaks], \"ro\", label=\"Peaks\")\n",
        "    plt.xlabel(\"Sample Index\")\n",
        "    plt.ylabel(\"Amplitude\")\n",
        "    plt.title(\"Signal with Detected Peaks\")\n",
        "    plt.legend()\n",
        "    plt.grid(True)\n",
        "\n",
        "    # Show the plot\n",
        "    plt.show()\n",
        "    if len(pro[\"peak_heights\"]) != 8:\n",
        "        print(\"ERROR: \", d)\n",
        "        print(\"------------------------\")\n",
        "\n",
        "\n"
      ]
    },
    {
      "cell_type": "code",
      "execution_count": null,
      "metadata": {
        "colab": {
          "base_uri": "https://localhost:8080/"
        },
        "id": "HgPYWRsIvMGa",
        "outputId": "fd88257e-ac67-4698-fe9d-75440a1ef986"
      },
      "outputs": [
        {
          "data": {
            "text/plain": [
              "926529"
            ]
          },
          "execution_count": 18,
          "metadata": {},
          "output_type": "execute_result"
        }
      ],
      "source": [
        "peaks[2] - peaks[0]"
      ]
    },
    {
      "cell_type": "markdown",
      "metadata": {
        "id": "DF8OCcFYa6Ty"
      },
      "source": [
        "# DEEP LEARNING"
      ]
    },
    {
      "cell_type": "code",
      "execution_count": null,
      "metadata": {
        "colab": {
          "base_uri": "https://localhost:8080/"
        },
        "id": "hxjqUJA1xDFA",
        "outputId": "20cdad6c-69e8-49a7-e130-49d8ebb52756"
      },
      "outputs": [
        {
          "name": "stdout",
          "output_type": "stream",
          "text": [
            "Mounted at /content/drive\n"
          ]
        }
      ],
      "source": [
        "from google.colab import drive\n",
        "drive.mount('/content/drive')"
      ]
    },
    {
      "cell_type": "code",
      "execution_count": null,
      "metadata": {
        "id": "7eRFfZy1HbnP"
      },
      "outputs": [],
      "source": [
        "import os\n",
        "from collections import Counter\n",
        "import numpy as np\n",
        "import pandas as pd\n",
        "from scipy.stats import mode\n",
        "import matplotlib.pyplot as plt\n",
        "from sklearn.model_selection import train_test_split\n",
        "from sklearn.preprocessing import StandardScaler, OneHotEncoder\n",
        "from concurrent.futures import ThreadPoolExecutor\n",
        "import seaborn as sns\n",
        "from sklearn.metrics import confusion_matrix\n",
        "import torch.nn.functional as F\n",
        "import torch\n",
        "import torch.nn as nn\n",
        "import torch.optim as optim\n",
        "from torch.utils.data import DataLoader, TensorDataset\n",
        "from torch.utils.data.sampler import WeightedRandomSampler"
      ]
    },
    {
      "cell_type": "markdown",
      "metadata": {
        "id": "VYRTP-SwKGxn"
      },
      "source": [
        "## Data Loading"
      ]
    },
    {
      "cell_type": "code",
      "execution_count": null,
      "metadata": {
        "id": "bF989Hd7KR3g"
      },
      "outputs": [],
      "source": [
        "def split_drivers(drivers, split_ratio=0.8, random_state=None):\n",
        "    \"\"\"\n",
        "    Split the list of drivers into train and test sets based on the split ratio.\n",
        "\n",
        "    Parameters:\n",
        "    - drivers (list): List of driver identifiers.\n",
        "    - split_ratio (float): The ratio of drivers to include in the training set.\n",
        "    - random_state (int or None): Seed for random number generation.\n",
        "\n",
        "    Returns:\n",
        "    - train_drivers (list): List of drivers for training.\n",
        "    - test_drivers (list): List of drivers for testing.\n",
        "    \"\"\"\n",
        "    # Ensure the split ratio is within a valid range\n",
        "    assert 0.0 <= split_ratio <= 1.0, \"Split ratio must be between 0 and 1.\"\n",
        "\n",
        "    # Use train_test_split to perform the split\n",
        "    train_drivers, test_drivers = train_test_split(drivers, train_size=round(split_ratio,1), test_size= round(1 - split_ratio,1), random_state=random_state)\n",
        "\n",
        "    return train_drivers, test_drivers\n",
        "\n",
        "def process_driver(driver, num_features, window_size, sampling_frequency, label=\"label_3\"):\n",
        "    window_size_samples = int(window_size * sampling_frequency)\n",
        "    num_segments = len(driver) // window_size_samples\n",
        "\n",
        "    stress_levels = driver[label].values\n",
        "\n",
        "    if num_features == 2:\n",
        "        ecg_data = driver[['ECG', 'HR']].values\n",
        "    else:\n",
        "        ecg_data = driver[['ECG']].values\n",
        "\n",
        "    sequences = []\n",
        "    labels = []\n",
        "    # Create sequences of the specified length\n",
        "    for i in range(num_segments):\n",
        "        start_idx = i * window_size_samples\n",
        "        end_idx = start_idx + window_size_samples\n",
        "        sequence = ecg_data[start_idx : end_idx]\n",
        "        label = mode(stress_levels[start_idx : end_idx])[0]  # Mode of the sequence labels\n",
        "        sequences.append(sequence)\n",
        "        labels.append(label)\n",
        "\n",
        "    return sequences, labels\n",
        "\n",
        "def prepare_lstm_data_parallel(dataset, num_features, window_size, sampling_frequency, label=\"label_3\", scaler=None):\n",
        "    \"\"\"\n",
        "    Prepare data for training an LSTM model in parallel.\n",
        "\n",
        "    Parameters:\n",
        "    - dataset (dict): Dictionary of DataFrames with keys as driver numbers and values as DataFrames.\n",
        "    - sequence_length (int): Length of each sequence.\n",
        "    - random_state (int or None): Seed for random number generation.\n",
        "\n",
        "    Returns:\n",
        "    - sequences_normalized, labels_encoded\n",
        "    \"\"\"\n",
        "\n",
        "    sequences = []\n",
        "    labels = []\n",
        "\n",
        "    # Get the number of logical CPUs on the system\n",
        "    max_workers = os.cpu_count()\n",
        "\n",
        "    # Create a ThreadPoolExecutor with max_workers\n",
        "    with ThreadPoolExecutor(max_workers=max_workers) as executor:\n",
        "        # Process each driver in parallel\n",
        "        futures = [executor.submit(process_driver, df, num_features, window_size, sampling_frequency, label) for driver, df in dataset.items()]\n",
        "\n",
        "        # Retrieve results\n",
        "        for future in futures:\n",
        "            result = future.result()\n",
        "            sequences.extend(result[0])\n",
        "            labels.extend(result[1])\n",
        "\n",
        "    sequences = np.array(sequences)\n",
        "    labels = np.array(labels)\n",
        "\n",
        "    # Normalize the input data (using StandardScaler)\n",
        "    if scaler==None:\n",
        "        scaler = StandardScaler()\n",
        "    sequences_normalized = scaler.fit_transform(sequences.reshape(-1, sequences.shape[-1])).reshape(sequences.shape)\n",
        "\n",
        "    # One-hot encode the labels if they are categorical\n",
        "    if label == 'label_3':\n",
        "        cat = [[1,3,5]]\n",
        "    else:\n",
        "        cat = [[1,5]]\n",
        "    encoder = OneHotEncoder(sparse=False, categories=cat)\n",
        "    labels_encoded = encoder.fit_transform(labels.reshape(-1, 1))\n",
        "\n",
        "    return scaler, sequences_normalized, labels_encoded\n"
      ]
    },
    {
      "cell_type": "code",
      "execution_count": null,
      "metadata": {
        "id": "dsHdI62LKTg_"
      },
      "outputs": [],
      "source": [
        "\n",
        "data_folder = \"/content/drive/MyDrive/driveDB/processed\"\n",
        "\n",
        "\n",
        "drivers = [f for f in os.listdir(data_folder) if f.endswith('.csv')]\n",
        "\n",
        "\n",
        "train_driver, test_driver = split_drivers(drivers, 0.7, 48)\n",
        "\n",
        "\n",
        "train_driver_dict = {}\n",
        "test_driver_dict = {}\n",
        "\n",
        "for d in train_driver:\n",
        "    driver = d.split(\".csv\")[0]\n",
        "    file_path = os.path.join(data_folder, d)\n",
        "    train_driver_dict[driver] = pd.read_csv(file_path)\n",
        "\n",
        "for d in test_driver:\n",
        "    driver = d.split(\".csv\")[0]\n",
        "    file_path = os.path.join(data_folder, d)\n",
        "    test_driver_dict[driver] = pd.read_csv(file_path)"
      ]
    },
    {
      "cell_type": "code",
      "execution_count": null,
      "metadata": {
        "id": "54OzwW46LTe8"
      },
      "outputs": [],
      "source": [
        "train_driver_dict['drive05'] = train_driver_dict['drive05'].dropna()"
      ]
    },
    {
      "cell_type": "code",
      "execution_count": null,
      "metadata": {
        "colab": {
          "base_uri": "https://localhost:8080/"
        },
        "id": "n9ofaIpCMUCJ",
        "outputId": "d262b59b-dfd8-4576-e1d9-a62dccc1cf09"
      },
      "outputs": [
        {
          "name": "stderr",
          "output_type": "stream",
          "text": [
            "/usr/local/lib/python3.10/dist-packages/sklearn/preprocessing/_encoders.py:868: FutureWarning: `sparse` was renamed to `sparse_output` in version 1.2 and will be removed in 1.4. `sparse_output` is ignored unless you leave `sparse` to its default value.\n",
            "  warnings.warn(\n",
            "/usr/local/lib/python3.10/dist-packages/sklearn/preprocessing/_encoders.py:868: FutureWarning: `sparse` was renamed to `sparse_output` in version 1.2 and will be removed in 1.4. `sparse_output` is ignored unless you leave `sparse` to its default value.\n",
            "  warnings.warn(\n"
          ]
        }
      ],
      "source": [
        "scaler, X_train, y_train = prepare_lstm_data_parallel(train_driver_dict, num_features=2, window_size=3, sampling_frequency=496, label=\"label_3\", scaler=None)\n",
        "_, X_val, y_val = prepare_lstm_data_parallel(test_driver_dict, num_features=2, window_size=3, sampling_frequency=496, label=\"label_3\", scaler=scaler)"
      ]
    },
    {
      "cell_type": "code",
      "execution_count": null,
      "metadata": {
        "colab": {
          "base_uri": "https://localhost:8080/"
        },
        "id": "j6DwShAW5AER",
        "outputId": "47ed0a8b-cee1-459b-99c2-a50e7fa20da7"
      },
      "outputs": [
        {
          "data": {
            "text/plain": [
              "(4224, 1488, 2)"
            ]
          },
          "execution_count": 70,
          "metadata": {},
          "output_type": "execute_result"
        }
      ],
      "source": [
        "X_train.shape"
      ]
    },
    {
      "cell_type": "code",
      "execution_count": null,
      "metadata": {
        "id": "TbQ_nAAV5C4h"
      },
      "outputs": [],
      "source": [
        "window_len = \"3sec\"\n",
        "num_features = \"2\""
      ]
    },
    {
      "cell_type": "code",
      "execution_count": null,
      "metadata": {
        "id": "sT-hBGnSMXD4"
      },
      "outputs": [],
      "source": [
        "np.save(f'/content/drive/MyDrive/driveDB/segmented/X_train_{window_len}_{num_features}.npy', X_train)\n",
        "np.save(f'/content/drive/MyDrive/driveDB/segmented/y_train_{window_len}_{num_features}.npy', y_train)\n",
        "np.save( f'/content/drive/MyDrive/driveDB/segmented/X_val_{window_len}_{num_features}.npy', X_val)\n",
        "np.save( f'/content/drive/MyDrive/driveDB/segmented/y_val_{window_len}_{num_features}.npy', y_val)"
      ]
    },
    {
      "cell_type": "markdown",
      "metadata": {
        "id": "Qz6EkgMk2xyI"
      },
      "source": [
        "#Load"
      ]
    },
    {
      "cell_type": "code",
      "execution_count": null,
      "metadata": {
        "id": "4HTAXDxW20j8"
      },
      "outputs": [],
      "source": [
        "num_features = 2\n",
        "window_len = \"3sec\"\n",
        "\n",
        "\n",
        "X_train = np.load(f'/content/drive/MyDrive/driveDB/segmented/X_train_{window_len}_{num_features}.npy')\n",
        "y_train = np.load(f'/content/drive/MyDrive/driveDB/segmented/y_train_{window_len}_{num_features}.npy')\n",
        "\n",
        "X_val = np.load(f'/content/drive/MyDrive/driveDB/segmented/X_val_{window_len}_{num_features}.npy')\n",
        "y_val = np.load(f'/content/drive/MyDrive/driveDB/segmented/y_val_{window_len}_{num_features}.npy')"
      ]
    },
    {
      "cell_type": "code",
      "execution_count": null,
      "metadata": {
        "colab": {
          "base_uri": "https://localhost:8080/"
        },
        "id": "bJ1gZx9NM6hB",
        "outputId": "93d57c95-8577-46df-e731-0a41c87546b5"
      },
      "outputs": [
        {
          "data": {
            "text/plain": [
              "((4224, 1488, 2), (2112, 1488, 2))"
            ]
          },
          "execution_count": 5,
          "metadata": {},
          "output_type": "execute_result"
        }
      ],
      "source": [
        "X_train.shape, X_val.shape"
      ]
    },
    {
      "cell_type": "code",
      "execution_count": null,
      "metadata": {
        "id": "eFQgCaeZOELW"
      },
      "outputs": [],
      "source": [
        "num_features = 2"
      ]
    },
    {
      "cell_type": "code",
      "execution_count": null,
      "metadata": {
        "id": "E5z4ttLqIBOv"
      },
      "outputs": [],
      "source": [
        "X_train_tensor = torch.from_numpy(X_train).float()\n",
        "y_train_tensor = torch.from_numpy(y_train).float()\n",
        "X_val_tensor = torch.from_numpy(X_val).float()\n",
        "y_val_tensor = torch.from_numpy(y_val).float()"
      ]
    },
    {
      "cell_type": "code",
      "execution_count": null,
      "metadata": {
        "id": "6J1_h2064M4j"
      },
      "outputs": [],
      "source": [
        "X_train_tensor = X_train_tensor.view(X_train.shape[0], num_features,-1)\n",
        "X_val_tensor = X_val_tensor.view(X_val.shape[0], num_features, -1)"
      ]
    },
    {
      "cell_type": "code",
      "execution_count": null,
      "metadata": {
        "colab": {
          "base_uri": "https://localhost:8080/"
        },
        "id": "eFFnIrK67xRN",
        "outputId": "d178bb6a-f41f-4424-87ad-54f2a82356e4"
      },
      "outputs": [
        {
          "data": {
            "text/plain": [
              "(torch.Size([4224, 2, 1488]), torch.Size([2112, 2, 1488]))"
            ]
          },
          "execution_count": 19,
          "metadata": {},
          "output_type": "execute_result"
        }
      ],
      "source": [
        "X_train_tensor.shape, X_val_tensor.shape"
      ]
    },
    {
      "cell_type": "code",
      "execution_count": null,
      "metadata": {
        "colab": {
          "base_uri": "https://localhost:8080/"
        },
        "id": "B8AW7wOK9CK_",
        "outputId": "84c00d65-2a7d-47fb-eda4-7e4df5481305"
      },
      "outputs": [
        {
          "data": {
            "text/plain": [
              "False"
            ]
          },
          "execution_count": 20,
          "metadata": {},
          "output_type": "execute_result"
        }
      ],
      "source": [
        "np.isnan(X_train).any()"
      ]
    },
    {
      "cell_type": "markdown",
      "metadata": {
        "id": "jOWjBkHw3y2-"
      },
      "source": [
        "#Pytorch init"
      ]
    },
    {
      "cell_type": "code",
      "execution_count": null,
      "metadata": {
        "colab": {
          "base_uri": "https://localhost:8080/"
        },
        "id": "rLDsDRX0T8AQ",
        "outputId": "07ce5b60-5b39-44d2-ac89-42d889c984b1"
      },
      "outputs": [
        {
          "data": {
            "text/plain": [
              "<torch._C.Generator at 0x7e8d53f91750>"
            ]
          },
          "execution_count": 21,
          "metadata": {},
          "output_type": "execute_result"
        }
      ],
      "source": [
        "torch.manual_seed(42)"
      ]
    },
    {
      "cell_type": "code",
      "execution_count": null,
      "metadata": {
        "colab": {
          "base_uri": "https://localhost:8080/"
        },
        "id": "_oQMovCV256-",
        "outputId": "f41ec8d0-fffb-4811-d60d-51425496927d"
      },
      "outputs": [
        {
          "data": {
            "text/plain": [
              "device(type='cuda')"
            ]
          },
          "execution_count": 22,
          "metadata": {},
          "output_type": "execute_result"
        }
      ],
      "source": [
        "if torch.backends.mps.is_available():\n",
        "    device = torch.device(\"mps\")\n",
        "elif torch.cuda.is_available():\n",
        "    device = torch.device(\"cuda\")\n",
        "else:\n",
        "    device = torch.device(\"cpu\")\n",
        "\n",
        "device"
      ]
    },
    {
      "cell_type": "markdown",
      "metadata": {
        "id": "QScf3tva8HtZ"
      },
      "source": [
        "## Oversampling"
      ]
    },
    {
      "cell_type": "code",
      "execution_count": null,
      "metadata": {
        "id": "1chVHVX73Fhb"
      },
      "outputs": [],
      "source": [
        "ys = torch.argmax(y_train_tensor, dim=1).tolist()\n",
        "counts = Counter(ys)\n",
        "weights = np.array([1./counts[_y] for _y in ys])\n",
        "sample_weights = torch.from_numpy(weights).float()\n",
        "sampler = WeightedRandomSampler(\n",
        "    weights=sample_weights,\n",
        "    num_samples=len(sample_weights),\n",
        "    replacement=True)"
      ]
    },
    {
      "cell_type": "code",
      "execution_count": null,
      "metadata": {
        "id": "Mr2JI_IF3Do0"
      },
      "outputs": [],
      "source": [
        "train_dataset = TensorDataset(X_train_tensor, torch.argmax(y_train_tensor, dim=1))\n",
        "val_dataset = TensorDataset(X_val_tensor, torch.argmax(y_val_tensor, dim=1))\n",
        "train_loader = DataLoader(train_dataset, batch_size=64, sampler=sampler, drop_last=True)\n",
        "val_loader = DataLoader(val_dataset, batch_size=64, shuffle=False, drop_last=True)"
      ]
    },
    {
      "cell_type": "markdown",
      "metadata": {
        "id": "G58ehRYe3IHC"
      },
      "source": [
        "#VGGNet architecture"
      ]
    },
    {
      "cell_type": "code",
      "execution_count": null,
      "metadata": {
        "id": "u7JZvQHQFyQk"
      },
      "outputs": [],
      "source": [
        "class VGGNet(nn.Module):\n",
        "    def __init__(self, n_features, n_classes):\n",
        "        super(VGGNet, self).__init__()\n",
        "        self.n_features = n_features\n",
        "        self.features = self._make_layers()\n",
        "        self.avgpool = nn.AdaptiveAvgPool1d(1)\n",
        "        self.classifier = nn.Sequential(\n",
        "            nn.Linear(512, 256),\n",
        "            nn.ReLU(True),\n",
        "            nn.Dropout(0.5),\n",
        "            nn.Linear(256, n_classes)\n",
        "        )\n",
        "\n",
        "    def _make_layers(self):\n",
        "        layers = []\n",
        "        in_channels = self.n_features\n",
        "\n",
        "        # VGG-like architecture with four blocks\n",
        "        for num_filters in [64, 128, 256, 512]:\n",
        "            layers += [\n",
        "                nn.Conv1d(in_channels, num_filters, kernel_size=3, padding=1),\n",
        "                nn.BatchNorm1d(num_filters),\n",
        "                nn.ReLU(inplace=True),\n",
        "                nn.MaxPool1d(kernel_size=2, stride=2)\n",
        "            ]\n",
        "            in_channels = num_filters\n",
        "\n",
        "        return nn.Sequential(*layers)\n",
        "\n",
        "    def forward(self, x):\n",
        "        x = self.features(x)\n",
        "        x = self.avgpool(x)\n",
        "        x = x.view(x.size(0), -1)\n",
        "        x = self.classifier(x)\n",
        "        return x"
      ]
    },
    {
      "cell_type": "code",
      "execution_count": null,
      "metadata": {
        "colab": {
          "base_uri": "https://localhost:8080/"
        },
        "id": "UUkgx55PGVSt",
        "outputId": "6271fe71-78f2-46aa-833c-48acc3ab5be0"
      },
      "outputs": [
        {
          "data": {
            "text/plain": [
              "VGGNet(\n",
              "  (features): Sequential(\n",
              "    (0): Conv1d(2, 64, kernel_size=(3,), stride=(1,), padding=(1,))\n",
              "    (1): BatchNorm1d(64, eps=1e-05, momentum=0.1, affine=True, track_running_stats=True)\n",
              "    (2): ReLU(inplace=True)\n",
              "    (3): MaxPool1d(kernel_size=2, stride=2, padding=0, dilation=1, ceil_mode=False)\n",
              "    (4): Conv1d(64, 128, kernel_size=(3,), stride=(1,), padding=(1,))\n",
              "    (5): BatchNorm1d(128, eps=1e-05, momentum=0.1, affine=True, track_running_stats=True)\n",
              "    (6): ReLU(inplace=True)\n",
              "    (7): MaxPool1d(kernel_size=2, stride=2, padding=0, dilation=1, ceil_mode=False)\n",
              "    (8): Conv1d(128, 256, kernel_size=(3,), stride=(1,), padding=(1,))\n",
              "    (9): BatchNorm1d(256, eps=1e-05, momentum=0.1, affine=True, track_running_stats=True)\n",
              "    (10): ReLU(inplace=True)\n",
              "    (11): MaxPool1d(kernel_size=2, stride=2, padding=0, dilation=1, ceil_mode=False)\n",
              "    (12): Conv1d(256, 512, kernel_size=(3,), stride=(1,), padding=(1,))\n",
              "    (13): BatchNorm1d(512, eps=1e-05, momentum=0.1, affine=True, track_running_stats=True)\n",
              "    (14): ReLU(inplace=True)\n",
              "    (15): MaxPool1d(kernel_size=2, stride=2, padding=0, dilation=1, ceil_mode=False)\n",
              "  )\n",
              "  (avgpool): AdaptiveAvgPool1d(output_size=1)\n",
              "  (classifier): Sequential(\n",
              "    (0): Linear(in_features=512, out_features=256, bias=True)\n",
              "    (1): ReLU(inplace=True)\n",
              "    (2): Dropout(p=0.5, inplace=False)\n",
              "    (3): Linear(in_features=256, out_features=3, bias=True)\n",
              "  )\n",
              ")"
            ]
          },
          "execution_count": 24,
          "metadata": {},
          "output_type": "execute_result"
        }
      ],
      "source": [
        "model = VGGNet(n_features=2, n_classes=3)\n",
        "model.to(device)"
      ]
    },
    {
      "cell_type": "markdown",
      "metadata": {
        "id": "cfU-qH772_0V"
      },
      "source": [
        "#Train"
      ]
    },
    {
      "cell_type": "code",
      "execution_count": null,
      "metadata": {
        "id": "SO_XA8KbNXxh"
      },
      "outputs": [],
      "source": [
        "num_epochs = 150"
      ]
    },
    {
      "cell_type": "code",
      "execution_count": null,
      "metadata": {
        "id": "P0PmvLOY38Qv"
      },
      "outputs": [],
      "source": [
        "criterion = nn.CrossEntropyLoss()\n",
        "optimizer = optim.Adam(model.parameters(), lr=0.001)\n",
        "\n",
        "scheduler = torch.optim.lr_scheduler.ReduceLROnPlateau(optimizer, factor=0.5, patience=10, verbose=True)"
      ]
    },
    {
      "cell_type": "code",
      "execution_count": null,
      "metadata": {
        "colab": {
          "base_uri": "https://localhost:8080/"
        },
        "id": "FTsoYhxjITlI",
        "outputId": "88e463e8-5165-4b76-b3dd-43ba30946b24"
      },
      "outputs": [
        {
          "name": "stdout",
          "output_type": "stream",
          "text": [
            "Epoch [1/150], Training Accuracy: 0.4744, Loss: 0.0134, Val Accuracy: 0.6151\n",
            "Epoch [2/150], Training Accuracy: 0.5476, Loss: 0.0146, Val Accuracy: 0.5786\n",
            "Epoch [3/150], Training Accuracy: 0.5362, Loss: 0.0142, Val Accuracy: 0.5990\n",
            "Epoch [4/150], Training Accuracy: 0.5526, Loss: 0.0141, Val Accuracy: 0.5777\n",
            "Epoch [5/150], Training Accuracy: 0.5571, Loss: 0.0141, Val Accuracy: 0.5805\n",
            "Epoch [6/150], Training Accuracy: 0.5599, Loss: 0.0134, Val Accuracy: 0.6283\n",
            "Epoch [7/150], Training Accuracy: 0.5613, Loss: 0.0141, Val Accuracy: 0.6259\n",
            "Epoch [8/150], Training Accuracy: 0.5691, Loss: 0.0143, Val Accuracy: 0.6089\n",
            "Epoch [9/150], Training Accuracy: 0.5857, Loss: 0.0147, Val Accuracy: 0.5999\n",
            "Epoch [10/150], Training Accuracy: 0.5772, Loss: 0.0134, Val Accuracy: 0.6293\n",
            "Epoch [11/150], Training Accuracy: 0.5964, Loss: 0.0138, Val Accuracy: 0.6349\n",
            "Epoch [12/150], Training Accuracy: 0.5999, Loss: 0.0130, Val Accuracy: 0.6491\n",
            "Epoch [13/150], Training Accuracy: 0.5881, Loss: 0.0160, Val Accuracy: 0.5545\n",
            "Epoch [14/150], Training Accuracy: 0.5897, Loss: 0.0135, Val Accuracy: 0.6269\n",
            "Epoch [15/150], Training Accuracy: 0.5945, Loss: 0.0136, Val Accuracy: 0.6387\n",
            "Epoch [16/150], Training Accuracy: 0.6037, Loss: 0.0134, Val Accuracy: 0.6269\n",
            "Epoch [17/150], Training Accuracy: 0.5923, Loss: 0.0131, Val Accuracy: 0.6510\n",
            "Epoch [18/150], Training Accuracy: 0.5942, Loss: 0.0126, Val Accuracy: 0.6856\n",
            "Epoch [19/150], Training Accuracy: 0.6068, Loss: 0.0129, Val Accuracy: 0.6728\n",
            "Epoch [20/150], Training Accuracy: 0.6098, Loss: 0.0128, Val Accuracy: 0.6899\n",
            "Epoch [21/150], Training Accuracy: 0.5973, Loss: 0.0134, Val Accuracy: 0.6487\n",
            "Epoch [22/150], Training Accuracy: 0.6170, Loss: 0.0138, Val Accuracy: 0.6302\n",
            "Epoch [23/150], Training Accuracy: 0.6013, Loss: 0.0132, Val Accuracy: 0.6705\n",
            "Epoch [24/150], Training Accuracy: 0.6139, Loss: 0.0140, Val Accuracy: 0.6222\n",
            "Epoch [25/150], Training Accuracy: 0.6155, Loss: 0.0136, Val Accuracy: 0.6293\n",
            "Epoch [26/150], Training Accuracy: 0.6191, Loss: 0.0135, Val Accuracy: 0.6558\n",
            "Epoch [27/150], Training Accuracy: 0.6110, Loss: 0.0138, Val Accuracy: 0.6491\n",
            "Epoch [28/150], Training Accuracy: 0.6148, Loss: 0.0136, Val Accuracy: 0.6610\n",
            "Epoch 00029: reducing learning rate of group 0 to 5.0000e-04.\n",
            "Epoch [29/150], Training Accuracy: 0.6342, Loss: 0.0134, Val Accuracy: 0.6553\n",
            "Epoch [30/150], Training Accuracy: 0.6359, Loss: 0.0129, Val Accuracy: 0.6861\n",
            "Epoch [31/150], Training Accuracy: 0.6458, Loss: 0.0127, Val Accuracy: 0.6842\n",
            "Epoch [32/150], Training Accuracy: 0.6513, Loss: 0.0131, Val Accuracy: 0.6629\n",
            "Epoch [33/150], Training Accuracy: 0.6402, Loss: 0.0134, Val Accuracy: 0.6615\n",
            "Epoch [34/150], Training Accuracy: 0.6477, Loss: 0.0134, Val Accuracy: 0.6719\n",
            "Epoch [35/150], Training Accuracy: 0.6416, Loss: 0.0129, Val Accuracy: 0.6686\n",
            "Epoch [36/150], Training Accuracy: 0.6437, Loss: 0.0133, Val Accuracy: 0.6856\n",
            "Epoch [37/150], Training Accuracy: 0.6572, Loss: 0.0138, Val Accuracy: 0.6515\n",
            "Epoch [38/150], Training Accuracy: 0.6392, Loss: 0.0137, Val Accuracy: 0.6634\n",
            "Epoch [39/150], Training Accuracy: 0.6697, Loss: 0.0147, Val Accuracy: 0.6463\n",
            "Epoch 00040: reducing learning rate of group 0 to 2.5000e-04.\n",
            "Epoch [40/150], Training Accuracy: 0.6596, Loss: 0.0139, Val Accuracy: 0.6671\n",
            "Epoch [41/150], Training Accuracy: 0.6603, Loss: 0.0134, Val Accuracy: 0.6747\n",
            "Epoch [42/150], Training Accuracy: 0.6738, Loss: 0.0135, Val Accuracy: 0.6856\n",
            "Epoch [43/150], Training Accuracy: 0.6603, Loss: 0.0140, Val Accuracy: 0.6681\n",
            "Epoch [44/150], Training Accuracy: 0.6617, Loss: 0.0138, Val Accuracy: 0.6690\n",
            "Epoch [45/150], Training Accuracy: 0.6707, Loss: 0.0141, Val Accuracy: 0.6643\n",
            "Epoch [46/150], Training Accuracy: 0.6695, Loss: 0.0137, Val Accuracy: 0.6813\n",
            "Epoch [47/150], Training Accuracy: 0.6806, Loss: 0.0137, Val Accuracy: 0.6861\n",
            "Epoch [48/150], Training Accuracy: 0.6773, Loss: 0.0138, Val Accuracy: 0.6847\n",
            "Epoch [49/150], Training Accuracy: 0.6721, Loss: 0.0137, Val Accuracy: 0.6719\n",
            "Epoch [50/150], Training Accuracy: 0.6735, Loss: 0.0137, Val Accuracy: 0.6795\n",
            "Epoch 00051: reducing learning rate of group 0 to 1.2500e-04.\n",
            "Epoch [51/150], Training Accuracy: 0.6759, Loss: 0.0135, Val Accuracy: 0.6903\n",
            "Epoch [52/150], Training Accuracy: 0.6804, Loss: 0.0136, Val Accuracy: 0.6951\n",
            "Epoch [53/150], Training Accuracy: 0.6911, Loss: 0.0139, Val Accuracy: 0.6813\n",
            "Epoch [54/150], Training Accuracy: 0.6818, Loss: 0.0138, Val Accuracy: 0.6894\n",
            "Epoch [55/150], Training Accuracy: 0.6861, Loss: 0.0139, Val Accuracy: 0.6809\n",
            "Epoch [56/150], Training Accuracy: 0.6804, Loss: 0.0138, Val Accuracy: 0.6908\n",
            "Epoch [57/150], Training Accuracy: 0.6766, Loss: 0.0135, Val Accuracy: 0.6965\n",
            "Epoch [58/150], Training Accuracy: 0.6970, Loss: 0.0137, Val Accuracy: 0.6861\n",
            "Epoch [59/150], Training Accuracy: 0.6915, Loss: 0.0137, Val Accuracy: 0.6918\n",
            "Epoch [60/150], Training Accuracy: 0.6894, Loss: 0.0140, Val Accuracy: 0.6842\n",
            "Epoch [61/150], Training Accuracy: 0.6849, Loss: 0.0140, Val Accuracy: 0.6903\n",
            "Epoch 00062: reducing learning rate of group 0 to 6.2500e-05.\n",
            "Epoch [62/150], Training Accuracy: 0.6939, Loss: 0.0138, Val Accuracy: 0.6941\n",
            "Epoch [63/150], Training Accuracy: 0.6927, Loss: 0.0137, Val Accuracy: 0.6951\n",
            "Epoch [64/150], Training Accuracy: 0.6868, Loss: 0.0139, Val Accuracy: 0.6866\n",
            "Epoch [65/150], Training Accuracy: 0.6802, Loss: 0.0140, Val Accuracy: 0.6823\n",
            "Epoch [66/150], Training Accuracy: 0.6842, Loss: 0.0138, Val Accuracy: 0.6866\n",
            "Epoch [67/150], Training Accuracy: 0.6925, Loss: 0.0139, Val Accuracy: 0.6922\n",
            "Epoch [68/150], Training Accuracy: 0.7076, Loss: 0.0139, Val Accuracy: 0.6946\n",
            "Epoch [69/150], Training Accuracy: 0.6951, Loss: 0.0141, Val Accuracy: 0.6941\n",
            "Epoch [70/150], Training Accuracy: 0.6941, Loss: 0.0142, Val Accuracy: 0.6899\n",
            "Epoch [71/150], Training Accuracy: 0.7121, Loss: 0.0139, Val Accuracy: 0.6918\n",
            "Epoch [72/150], Training Accuracy: 0.7041, Loss: 0.0141, Val Accuracy: 0.6937\n",
            "Epoch 00073: reducing learning rate of group 0 to 3.1250e-05.\n",
            "Epoch [73/150], Training Accuracy: 0.6955, Loss: 0.0140, Val Accuracy: 0.6922\n",
            "Epoch [74/150], Training Accuracy: 0.7045, Loss: 0.0138, Val Accuracy: 0.6955\n",
            "Epoch [75/150], Training Accuracy: 0.6944, Loss: 0.0136, Val Accuracy: 0.6946\n",
            "Epoch [76/150], Training Accuracy: 0.7041, Loss: 0.0140, Val Accuracy: 0.6913\n",
            "Epoch [77/150], Training Accuracy: 0.7034, Loss: 0.0140, Val Accuracy: 0.6918\n",
            "Epoch [78/150], Training Accuracy: 0.7031, Loss: 0.0139, Val Accuracy: 0.6960\n",
            "Epoch [79/150], Training Accuracy: 0.7024, Loss: 0.0137, Val Accuracy: 0.6937\n",
            "Epoch [80/150], Training Accuracy: 0.7109, Loss: 0.0140, Val Accuracy: 0.6870\n",
            "Epoch [81/150], Training Accuracy: 0.6939, Loss: 0.0140, Val Accuracy: 0.6866\n",
            "Epoch [82/150], Training Accuracy: 0.6939, Loss: 0.0140, Val Accuracy: 0.6951\n",
            "Epoch [83/150], Training Accuracy: 0.7197, Loss: 0.0141, Val Accuracy: 0.6937\n",
            "Epoch 00084: reducing learning rate of group 0 to 1.5625e-05.\n",
            "Epoch [84/150], Training Accuracy: 0.6967, Loss: 0.0139, Val Accuracy: 0.6955\n",
            "Epoch [85/150], Training Accuracy: 0.7145, Loss: 0.0139, Val Accuracy: 0.6960\n",
            "Epoch [86/150], Training Accuracy: 0.7124, Loss: 0.0139, Val Accuracy: 0.6908\n",
            "Epoch [87/150], Training Accuracy: 0.6958, Loss: 0.0140, Val Accuracy: 0.7003\n",
            "Epoch [88/150], Training Accuracy: 0.7221, Loss: 0.0141, Val Accuracy: 0.6908\n",
            "Epoch [89/150], Training Accuracy: 0.7076, Loss: 0.0138, Val Accuracy: 0.6989\n",
            "Epoch [90/150], Training Accuracy: 0.7124, Loss: 0.0142, Val Accuracy: 0.6927\n",
            "Epoch [91/150], Training Accuracy: 0.6977, Loss: 0.0139, Val Accuracy: 0.6989\n",
            "Epoch [92/150], Training Accuracy: 0.6984, Loss: 0.0139, Val Accuracy: 0.6937\n",
            "Epoch [93/150], Training Accuracy: 0.7071, Loss: 0.0137, Val Accuracy: 0.6984\n",
            "Epoch [94/150], Training Accuracy: 0.7121, Loss: 0.0139, Val Accuracy: 0.6937\n",
            "Epoch 00095: reducing learning rate of group 0 to 7.8125e-06.\n",
            "Epoch [95/150], Training Accuracy: 0.7057, Loss: 0.0139, Val Accuracy: 0.7027\n",
            "Epoch [96/150], Training Accuracy: 0.7188, Loss: 0.0139, Val Accuracy: 0.6965\n",
            "Epoch [97/150], Training Accuracy: 0.7050, Loss: 0.0140, Val Accuracy: 0.6965\n",
            "Epoch [98/150], Training Accuracy: 0.7038, Loss: 0.0139, Val Accuracy: 0.6984\n",
            "Epoch [99/150], Training Accuracy: 0.7093, Loss: 0.0140, Val Accuracy: 0.6941\n",
            "Epoch [100/150], Training Accuracy: 0.7119, Loss: 0.0138, Val Accuracy: 0.6965\n",
            "Epoch [101/150], Training Accuracy: 0.7107, Loss: 0.0138, Val Accuracy: 0.6998\n",
            "Epoch [102/150], Training Accuracy: 0.7064, Loss: 0.0140, Val Accuracy: 0.6951\n",
            "Epoch [103/150], Training Accuracy: 0.7079, Loss: 0.0138, Val Accuracy: 0.6946\n",
            "Epoch [104/150], Training Accuracy: 0.7098, Loss: 0.0140, Val Accuracy: 0.6951\n",
            "Epoch [105/150], Training Accuracy: 0.7038, Loss: 0.0138, Val Accuracy: 0.7022\n",
            "Epoch 00106: reducing learning rate of group 0 to 3.9063e-06.\n",
            "Epoch [106/150], Training Accuracy: 0.7081, Loss: 0.0142, Val Accuracy: 0.6889\n",
            "Epoch [107/150], Training Accuracy: 0.7192, Loss: 0.0140, Val Accuracy: 0.6998\n",
            "Epoch [108/150], Training Accuracy: 0.7145, Loss: 0.0140, Val Accuracy: 0.6993\n",
            "Epoch [109/150], Training Accuracy: 0.7098, Loss: 0.0140, Val Accuracy: 0.7008\n",
            "Epoch [110/150], Training Accuracy: 0.7081, Loss: 0.0138, Val Accuracy: 0.7027\n",
            "Epoch [111/150], Training Accuracy: 0.7071, Loss: 0.0140, Val Accuracy: 0.7003\n",
            "Epoch [112/150], Training Accuracy: 0.7150, Loss: 0.0139, Val Accuracy: 0.6979\n",
            "Epoch [113/150], Training Accuracy: 0.7195, Loss: 0.0139, Val Accuracy: 0.7031\n",
            "Epoch [114/150], Training Accuracy: 0.6979, Loss: 0.0139, Val Accuracy: 0.6951\n",
            "Epoch [115/150], Training Accuracy: 0.7027, Loss: 0.0138, Val Accuracy: 0.6960\n",
            "Epoch [116/150], Training Accuracy: 0.7093, Loss: 0.0140, Val Accuracy: 0.6979\n",
            "Epoch 00117: reducing learning rate of group 0 to 1.9531e-06.\n",
            "Epoch [117/150], Training Accuracy: 0.7064, Loss: 0.0139, Val Accuracy: 0.7003\n",
            "Epoch [118/150], Training Accuracy: 0.7119, Loss: 0.0141, Val Accuracy: 0.6941\n",
            "Epoch [119/150], Training Accuracy: 0.6941, Loss: 0.0141, Val Accuracy: 0.6932\n",
            "Epoch [120/150], Training Accuracy: 0.7116, Loss: 0.0142, Val Accuracy: 0.6922\n",
            "Epoch [121/150], Training Accuracy: 0.7124, Loss: 0.0141, Val Accuracy: 0.6927\n",
            "Epoch [122/150], Training Accuracy: 0.7135, Loss: 0.0141, Val Accuracy: 0.6941\n",
            "Epoch [123/150], Training Accuracy: 0.7079, Loss: 0.0140, Val Accuracy: 0.6937\n",
            "Epoch [124/150], Training Accuracy: 0.7079, Loss: 0.0139, Val Accuracy: 0.7027\n",
            "Epoch [125/150], Training Accuracy: 0.7143, Loss: 0.0138, Val Accuracy: 0.6918\n",
            "Epoch [126/150], Training Accuracy: 0.7055, Loss: 0.0141, Val Accuracy: 0.6993\n",
            "Epoch [127/150], Training Accuracy: 0.7031, Loss: 0.0139, Val Accuracy: 0.6993\n",
            "Epoch 00128: reducing learning rate of group 0 to 9.7656e-07.\n",
            "Epoch [128/150], Training Accuracy: 0.7143, Loss: 0.0139, Val Accuracy: 0.6989\n",
            "Epoch [129/150], Training Accuracy: 0.7095, Loss: 0.0139, Val Accuracy: 0.7008\n",
            "Epoch [130/150], Training Accuracy: 0.6967, Loss: 0.0140, Val Accuracy: 0.6989\n",
            "Epoch [131/150], Training Accuracy: 0.7050, Loss: 0.0141, Val Accuracy: 0.6960\n",
            "Epoch [132/150], Training Accuracy: 0.7067, Loss: 0.0140, Val Accuracy: 0.6960\n",
            "Epoch [133/150], Training Accuracy: 0.6899, Loss: 0.0139, Val Accuracy: 0.6979\n",
            "Epoch [134/150], Training Accuracy: 0.7143, Loss: 0.0141, Val Accuracy: 0.6932\n",
            "Epoch [135/150], Training Accuracy: 0.6970, Loss: 0.0138, Val Accuracy: 0.7008\n",
            "Epoch [136/150], Training Accuracy: 0.7157, Loss: 0.0140, Val Accuracy: 0.6951\n",
            "Epoch [137/150], Training Accuracy: 0.7138, Loss: 0.0138, Val Accuracy: 0.6979\n",
            "Epoch [138/150], Training Accuracy: 0.6989, Loss: 0.0141, Val Accuracy: 0.6965\n",
            "Epoch 00139: reducing learning rate of group 0 to 4.8828e-07.\n",
            "Epoch [139/150], Training Accuracy: 0.7107, Loss: 0.0140, Val Accuracy: 0.6955\n",
            "Epoch [140/150], Training Accuracy: 0.7178, Loss: 0.0141, Val Accuracy: 0.6951\n",
            "Epoch [141/150], Training Accuracy: 0.7282, Loss: 0.0141, Val Accuracy: 0.6922\n",
            "Epoch [142/150], Training Accuracy: 0.6986, Loss: 0.0140, Val Accuracy: 0.7003\n",
            "Epoch [143/150], Training Accuracy: 0.7166, Loss: 0.0140, Val Accuracy: 0.6984\n",
            "Epoch [144/150], Training Accuracy: 0.7017, Loss: 0.0141, Val Accuracy: 0.6922\n",
            "Epoch [145/150], Training Accuracy: 0.7036, Loss: 0.0139, Val Accuracy: 0.6979\n",
            "Epoch [146/150], Training Accuracy: 0.7180, Loss: 0.0140, Val Accuracy: 0.6955\n",
            "Epoch [147/150], Training Accuracy: 0.7071, Loss: 0.0139, Val Accuracy: 0.6951\n",
            "Epoch [148/150], Training Accuracy: 0.6970, Loss: 0.0139, Val Accuracy: 0.6979\n",
            "Epoch [149/150], Training Accuracy: 0.6941, Loss: 0.0139, Val Accuracy: 0.6984\n",
            "Epoch 00150: reducing learning rate of group 0 to 2.4414e-07.\n",
            "Epoch [150/150], Training Accuracy: 0.7031, Loss: 0.0138, Val Accuracy: 0.7022\n"
          ]
        }
      ],
      "source": [
        "train_accuracies = []\n",
        "val_accuracies = []\n",
        "val_losses = []\n",
        "for epoch in range(num_epochs):\n",
        "    train_loss = 0.0\n",
        "    correct = 0.0\n",
        "    total = 0.0\n",
        "\n",
        "    model.train()\n",
        "\n",
        "    for inputs, labels in train_loader:\n",
        "        inputs = inputs.to(device)\n",
        "        labels = labels.to(device)\n",
        "        optimizer.zero_grad()\n",
        "        outputs = model(inputs)\n",
        "        loss = criterion(outputs, labels)\n",
        "        loss.backward()\n",
        "        optimizer.step()\n",
        "\n",
        "\n",
        "        train_loss += loss.item()\n",
        "\n",
        "        _, predicted = torch.max(outputs, 1)\n",
        "        total += labels.size(0)\n",
        "        correct += (predicted == labels).sum().item()\n",
        "    train_accuracy = correct / total\n",
        "    train_accuracies.append(train_accuracy)\n",
        "    # Validation\n",
        "    model.eval()\n",
        "    with torch.no_grad():\n",
        "        val_loss = 0.0\n",
        "        correct = 0\n",
        "        total = 0\n",
        "        for inputs, labels in val_loader:\n",
        "            inputs = inputs.to(device)\n",
        "            labels = labels.to(device)\n",
        "            outputs = model(inputs)\n",
        "            loss = criterion(outputs, labels)\n",
        "            val_loss += loss.item()\n",
        "\n",
        "            _, predicted = torch.max(outputs, 1)\n",
        "            total += labels.size(0)\n",
        "            correct += (predicted == labels).sum().item()\n",
        "        val_accuracy = correct / total\n",
        "        val_accuracies.append(val_accuracy)\n",
        "        val_loss = val_loss / total\n",
        "        val_losses.append(val_loss)\n",
        "        scheduler.step(val_loss)\n",
        "\n",
        "    print(f'Epoch [{epoch + 1}/{num_epochs}], Training Accuracy: {train_accuracy:.4f}, Loss: {val_loss:.4f}, Val Accuracy: {val_accuracy:.4f}')\n"
      ]
    },
    {
      "cell_type": "code",
      "execution_count": null,
      "metadata": {
        "id": "QQCLPRmKnVNG"
      },
      "outputs": [],
      "source": [
        "def plot_confusion_matrix(y_true, y_pred, classes, type_=\"training\"):\n",
        "    cm = confusion_matrix(y_true, y_pred)\n",
        "    plt.figure(figsize=(8, 6))\n",
        "    sns.heatmap(cm, annot=True, fmt='d', cmap='Blues', xticklabels=classes, yticklabels=classes)\n",
        "    plt.xlabel('Predicted')\n",
        "    plt.ylabel('True')\n",
        "    plt.title(f'Confusion Matrix {type_}')\n",
        "    plt.show()\n",
        "\n",
        "# Function to calculate and print class accuracy\n",
        "def class_accuracy(y_true, y_pred, class_labels):\n",
        "    cm = confusion_matrix(y_true, y_pred)\n",
        "    num_classes = len(class_labels)\n",
        "    accuracies = []\n",
        "    for i in range(num_classes):\n",
        "        accuracy = cm[i, i] / cm[i, :].sum()  # True positive / Total actual for class i\n",
        "        accuracies.append(accuracy)\n",
        "        print(f'Accuracy for {class_labels[i]}: {accuracy:.4f}')\n",
        "    return accuracies\n",
        "\n",
        "def plot_accuracy_graphs(train_accuracies, val_accuracies):\n",
        "    plt.figure()\n",
        "    plt.plot(train_accuracies, label=\"Train Accuracy\")\n",
        "    plt.plot(val_accuracies, label=\"Val Accuracy\")\n",
        "    plt.xlabel(\"Epoch\")\n",
        "    plt.ylabel(\"Accuracy\")\n",
        "    plt.show()\n",
        "\n",
        "def plot_loss_graph(losses):\n",
        "    plt.figure()\n",
        "    plt.plot(losses, label=\"Val Loss\")\n",
        "    plt.xlabel(\"Epoch\")\n",
        "    plt.ylabel(\"Loss\")\n",
        "    plt.show()"
      ]
    },
    {
      "cell_type": "code",
      "execution_count": null,
      "metadata": {
        "id": "TItdtNZsRSRN"
      },
      "outputs": [],
      "source": [
        "torch.save(model.state_dict(), f\"/content/drive/MyDrive/driveDB/saved_models/vgg_{window_len}_{num_features}_{num_classes}_random_seed-42.pth\")"
      ]
    },
    {
      "cell_type": "code",
      "execution_count": null,
      "metadata": {
        "colab": {
          "base_uri": "https://localhost:8080/",
          "height": 1000
        },
        "id": "bdkthLYToF-k",
        "outputId": "8882ba83-77f7-4b78-c96d-d05b2ecd771d"
      },
      "outputs": [
        {
          "data": {
            "image/png": "[encoded data removed]",
            "text/plain": [
              "<Figure size 800x600 with 2 Axes>"
            ]
          },
          "metadata": {},
          "output_type": "display_data"
        },
        {
          "name": "stdout",
          "output_type": "stream",
          "text": [
            "Accuracy for 1: 0.7720\n",
            "Accuracy for 3: 0.7556\n",
            "Accuracy for 5: 0.6839\n"
          ]
        },
        {
          "data": {
            "image/png": "[encoded data removed]",
            "text/plain": [
              "<Figure size 800x600 with 2 Axes>"
            ]
          },
          "metadata": {},
          "output_type": "display_data"
        },
        {
          "name": "stdout",
          "output_type": "stream",
          "text": [
            "Accuracy for 1: 0.7497\n",
            "Accuracy for 3: 0.3498\n",
            "Accuracy for 5: 0.7727\n"
          ]
        }
      ],
      "source": [
        "model.eval()\n",
        "\n",
        "# Initialize lists to store true and predicted labels\n",
        "true_labels = []\n",
        "predicted_labels = []\n",
        "\n",
        "# Iterate through the test dataloader\n",
        "with torch.no_grad():\n",
        "    for inputs, labels in train_loader:\n",
        "        inputs = inputs.to(device)\n",
        "        labels = labels.to(device)\n",
        "        outputs = model(inputs)\n",
        "        _, predicted = torch.max(outputs, 1)\n",
        "        true_labels.extend(labels.cpu().numpy())\n",
        "        predicted_labels.extend(predicted.cpu().numpy())\n",
        "num_classes = 3\n",
        "# Define your class labels\n",
        "if num_classes == 3:\n",
        "    class_labels = ['1', '3', '5']\n",
        "else:\n",
        "    class_labels = ['1', '5']\n",
        "\n",
        "# Plot the confusion matrix\n",
        "plot_confusion_matrix(true_labels, predicted_labels, classes=class_labels, type_= \"Training\")\n",
        "\n",
        "# Calculate and print class accuracy\n",
        "class_accuracies = class_accuracy(true_labels, predicted_labels, class_labels)\n",
        "\n",
        "\n",
        "# Initialize lists to store true and predicted labels\n",
        "true_labels = []\n",
        "predicted_labels = []\n",
        "\n",
        "# Iterate through the test dataloader\n",
        "with torch.no_grad():\n",
        "    for inputs, labels in val_loader:\n",
        "        inputs = inputs.to(device)\n",
        "        labels = labels.to(device)\n",
        "        outputs = model(inputs)\n",
        "        _, predicted = torch.max(outputs, 1)\n",
        "        true_labels.extend(labels.cpu().numpy())\n",
        "        predicted_labels.extend(predicted.cpu().numpy())\n",
        "\n",
        "# Define your class labels\n",
        "if num_classes == 3:\n",
        "    class_labels = ['1', '3', '5']\n",
        "else:\n",
        "    class_labels = ['1', '5']\n",
        "\n",
        "# Plot the confusion matrix\n",
        "plot_confusion_matrix(true_labels, predicted_labels, classes=class_labels, type_= \"Validation\")\n",
        "\n",
        "# Calculate and print class accuracy\n",
        "class_accuracies = class_accuracy(true_labels, predicted_labels, class_labels)"
      ]
    },
    {
      "cell_type": "code",
      "execution_count": null,
      "metadata": {
        "colab": {
          "base_uri": "https://localhost:8080/",
          "height": 449
        },
        "id": "or-kBhRN6JkR",
        "outputId": "e8f973d2-9f84-436e-ff4c-0c21878715b2"
      },
      "outputs": [
        {
          "data": {
            "image/png": "[encoded data removed]",
            "text/plain": [
              "<Figure size 640x480 with 1 Axes>"
            ]
          },
          "metadata": {},
          "output_type": "display_data"
        }
      ],
      "source": [
        "plot_accuracy_graphs(train_accuracies, val_accuracies)"
      ]
    },
    {
      "cell_type": "code",
      "execution_count": null,
      "metadata": {
        "colab": {
          "base_uri": "https://localhost:8080/",
          "height": 449
        },
        "id": "pYojyXM3La50",
        "outputId": "c573d036-d18a-407f-988d-642ba646dffd"
      },
      "outputs": [
        {
          "data": {
            "image/png": "[encoded data removed]",
            "text/plain": [
              "<Figure size 640x480 with 1 Axes>"
            ]
          },
          "metadata": {},
          "output_type": "display_data"
        }
      ],
      "source": [
        "plot_loss_graph(val_losses)"
      ]
    }
  ],
  "metadata": {
    "accelerator": "GPU",
    "colab": {
      "collapsed_sections": [
        "phNLGayRF9zF"
      ],
      "provenance": []
    },
    "kernelspec": {
      "display_name": "Python 3",
      "name": "python3"
    },
    "language_info": {
      "name": "python"
    }
  },
  "nbformat": 4,
  "nbformat_minor": 0
}
